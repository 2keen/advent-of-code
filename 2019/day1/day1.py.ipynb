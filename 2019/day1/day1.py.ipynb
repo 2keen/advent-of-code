{
 "cells": [
  {
   "cell_type": "code",
   "execution_count": 25,
   "metadata": {},
   "outputs": [],
   "source": [
    "import pandas as pd\n",
    "import numpy as np"
   ]
  },
  {
   "cell_type": "code",
   "execution_count": 1,
   "metadata": {},
   "outputs": [],
   "source": [
    "with open('input.txt') as f:\n",
    "    masses = f.readlines()"
   ]
  },
  {
   "cell_type": "code",
   "execution_count": 42,
   "metadata": {},
   "outputs": [
    {
     "data": {
      "text/plain": [
       "3337766"
      ]
     },
     "execution_count": 42,
     "metadata": {},
     "output_type": "execute_result"
    }
   ],
   "source": [
    "#one step\n",
    "(((pd.Series(masses).astype(int))/3)-2).astype(int).sum()"
   ]
  },
  {
   "cell_type": "code",
   "execution_count": 51,
   "metadata": {},
   "outputs": [
    {
     "name": "stdout",
     "output_type": "stream",
     "text": [
      "0     22984.000000\n",
      "1     27404.000000\n",
      "2     18109.000000\n",
      "3     19723.666667\n",
      "4     17289.333333\n",
      "          ...     \n",
      "95    39658.333333\n",
      "96    49710.333333\n",
      "97    33711.666667\n",
      "98    23586.333333\n",
      "99    47035.666667\n",
      "Length: 100, dtype: float64\n"
     ]
    }
   ],
   "source": [
    "#apply formula\n",
    "s = pd.Series(masses).astype(int)\n",
    "s = s/3\n",
    "s = s-2\n",
    "print(s)"
   ]
  },
  {
   "cell_type": "code",
   "execution_count": 50,
   "metadata": {},
   "outputs": [
    {
     "name": "stdout",
     "output_type": "stream",
     "text": [
      "raw sum:\t3337801.0\n",
      "int sum:\t3337766\n",
      "round sum:\t3337805.0\n",
      "floor sum:\t3337766.0\n"
     ]
    }
   ],
   "source": [
    "print('raw sum:\\t{}'.format(s.sum()))\n",
    "print('int sum:\\t{}'.format(s.astype(int).sum()))\n",
    "print('round sum:\\t{}'.format(np.round(s).sum()))\n",
    "print('floor sum:\\t{}'.format(np.floor(s).sum()))"
   ]
  },
  {
   "cell_type": "code",
   "execution_count": 75,
   "metadata": {},
   "outputs": [
    {
     "data": {
      "text/plain": [
       "0     22984.000000\n",
       "1     27404.000000\n",
       "2     18109.000000\n",
       "3     19723.666667\n",
       "4     17289.333333\n",
       "          ...     \n",
       "95    39658.333333\n",
       "96    49710.333333\n",
       "97    33711.666667\n",
       "98    23586.333333\n",
       "99    47035.666667\n",
       "Length: 100, dtype: float64"
      ]
     },
     "execution_count": 75,
     "metadata": {},
     "output_type": "execute_result"
    }
   ],
   "source": [
    "s"
   ]
  },
  {
   "cell_type": "code",
   "execution_count": null,
   "metadata": {},
   "outputs": [],
   "source": []
  },
  {
   "cell_type": "code",
   "execution_count": null,
   "metadata": {},
   "outputs": [],
   "source": [
    "def getfuel(mass):\n",
    "    return int(mass/3-2)"
   ]
  },
  {
   "cell_type": "code",
   "execution_count": 79,
   "metadata": {},
   "outputs": [
    {
     "data": {
      "text/plain": [
       "3337766"
      ]
     },
     "execution_count": 79,
     "metadata": {},
     "output_type": "execute_result"
    }
   ],
   "source": [
    "s = pd.Series(masses).astype(int)\n",
    "s.apply(getfuel).sum()"
   ]
  },
  {
   "cell_type": "code",
   "execution_count": 80,
   "metadata": {},
   "outputs": [],
   "source": [
    "#part 2\n",
    "def getallfuel(mass):\n",
    "    fuel = 0\n",
    "    while mass > 0:\n",
    "        mass = getfuel(mass)\n",
    "        if mass > 0: fuel += mass\n",
    "    return fuel"
   ]
  },
  {
   "cell_type": "code",
   "execution_count": 81,
   "metadata": {},
   "outputs": [
    {
     "data": {
      "text/plain": [
       "5003788"
      ]
     },
     "execution_count": 81,
     "metadata": {},
     "output_type": "execute_result"
    }
   ],
   "source": [
    "s = pd.Series(masses).astype(int)\n",
    "s.apply(getallfuel).sum()"
   ]
  },
  {
   "cell_type": "code",
   "execution_count": null,
   "metadata": {},
   "outputs": [],
   "source": []
  }
 ],
 "metadata": {
  "kernelspec": {
   "display_name": "venv",
   "language": "python",
   "name": "venv"
  },
  "language_info": {
   "codemirror_mode": {
    "name": "ipython",
    "version": 3
   },
   "file_extension": ".py",
   "mimetype": "text/x-python",
   "name": "python",
   "nbconvert_exporter": "python",
   "pygments_lexer": "ipython3",
   "version": "3.8.1"
  }
 },
 "nbformat": 4,
 "nbformat_minor": 4
}
