{
 "cells": [
  {
   "cell_type": "code",
   "execution_count": 1,
   "metadata": {},
   "outputs": [],
   "source": [
    "import math "
   ]
  },
  {
   "cell_type": "code",
   "execution_count": 2,
   "metadata": {},
   "outputs": [
    {
     "data": {
      "text/plain": [
       "['1004098',\n",
       " '23,x,x,x,x,x,x,x,x,x,x,x,x,41,x,x,x,x,x,x,x,x,x,509,x,x,x,x,x,x,x,x,x,x,x,x,13,17,x,x,x,x,x,x,x,x,x,x,x,x,x,x,29,x,401,x,x,x,x,x,37,x,x,x,x,x,x,x,x,x,x,x,x,19']"
      ]
     },
     "execution_count": 2,
     "metadata": {},
     "output_type": "execute_result"
    }
   ],
   "source": [
    "text = open('input.txt','r').read().split('\\n')\n",
    "text "
   ]
  },
  {
   "cell_type": "code",
   "execution_count": 3,
   "metadata": {},
   "outputs": [],
   "source": [
    "test = ['939','7,13,x,x,59,x,31,19']"
   ]
  },
  {
   "cell_type": "code",
   "execution_count": 4,
   "metadata": {},
   "outputs": [],
   "source": [
    "def part1(data):\n",
    "    target = int(data[0])\n",
    "    b = [(int(bus),int(bus)*(int(data[0])//int(bus)+1)) for bus in data[1].split(',') if bus != 'x']\n",
    "    bus = b[[x[1] for x in b].index(min([x[1] for x in b]))]\n",
    "    \n",
    "    return bus[0]*(bus[1]-target)\n",
    "\n",
    "    "
   ]
  },
  {
   "cell_type": "code",
   "execution_count": 5,
   "metadata": {},
   "outputs": [
    {
     "data": {
      "text/plain": [
       "2406"
      ]
     },
     "execution_count": 5,
     "metadata": {},
     "output_type": "execute_result"
    }
   ],
   "source": [
    "part1(text)"
   ]
  },
  {
   "cell_type": "code",
   "execution_count": 6,
   "metadata": {},
   "outputs": [],
   "source": [
    "tests = ['17,x,13,19', # 3417\n",
    "         '67,7,59,61', # 754018\n",
    "        '67,x,7,59,61', # 779210.\n",
    "        '67,7,x,59,61', # 1261476.\n",
    "        '1789,37,47,1889', # 1202161486\n",
    "        ]"
   ]
  },
  {
   "cell_type": "code",
   "execution_count": 7,
   "metadata": {},
   "outputs": [],
   "source": [
    "t1 = 'x,7,x,5,x,x,8' #78"
   ]
  },
  {
   "cell_type": "code",
   "execution_count": 8,
   "metadata": {},
   "outputs": [],
   "source": [
    "data = 'x,7,x,5,x,x,8'  #tests[0]\n",
    "# info = 'x,3,x,x,5,x,7'  \n",
    "# print(info.split(','))\n",
    "# data = [(int(bus),i) for i,bus in enumerate(info.split(',')) if bus != 'x']\n",
    "\n",
    "def part2(data):\n",
    "\n",
    "    data = data.split(',')\n",
    "    remainders = [-i%int(data[i]) for i in range(len(data)) if data[i] != 'x']\n",
    "    modulos = [int(x) for x in data if x != 'x']\n",
    "\n",
    "    N = math.prod(modulos)\n",
    "    s = 0\n",
    "    for i in range(len(modulos)):\n",
    "        b = remainders[i]\n",
    "        n = N//modulos[i]\n",
    "        x=1\n",
    "        while (x * (n % modulos[i])) % modulos[i] != 1:\n",
    "            x+=1\n",
    "\n",
    "        s+= (remainders[i]) * (N//modulos[i]) * x\n",
    "\n",
    "    return s%N"
   ]
  },
  {
   "cell_type": "code",
   "execution_count": 9,
   "metadata": {},
   "outputs": [
    {
     "data": {
      "text/plain": [
       "225850756401039"
      ]
     },
     "execution_count": 9,
     "metadata": {},
     "output_type": "execute_result"
    }
   ],
   "source": [
    "part2(text[1])"
   ]
  }
 ],
 "metadata": {
  "kernelspec": {
   "display_name": "Python 3",
   "language": "python",
   "name": "python3"
  },
  "language_info": {
   "codemirror_mode": {
    "name": "ipython",
    "version": 3
   },
   "file_extension": ".py",
   "mimetype": "text/x-python",
   "name": "python",
   "nbconvert_exporter": "python",
   "pygments_lexer": "ipython3",
   "version": "3.9.0"
  }
 },
 "nbformat": 4,
 "nbformat_minor": 4
}
