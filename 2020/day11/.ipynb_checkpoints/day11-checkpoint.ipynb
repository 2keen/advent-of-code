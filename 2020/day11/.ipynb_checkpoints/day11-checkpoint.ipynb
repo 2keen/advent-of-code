{
 "cells": [
  {
   "cell_type": "code",
   "execution_count": 1,
   "metadata": {},
   "outputs": [],
   "source": [
    "text = open('input.txt','r').read()\n",
    "text = [list(x) for x in text.split('\\n')]\n"
   ]
  },
  {
   "cell_type": "code",
   "execution_count": 2,
   "metadata": {},
   "outputs": [
    {
     "data": {
      "text/plain": [
       "(97, 98)"
      ]
     },
     "execution_count": 2,
     "metadata": {},
     "output_type": "execute_result"
    }
   ],
   "source": [
    "len(text),len(text[0])"
   ]
  },
  {
   "cell_type": "code",
   "execution_count": 3,
   "metadata": {},
   "outputs": [
    {
     "data": {
      "text/plain": [
       "[['L', '.', 'L', 'L', '.', 'L', 'L', '.', 'L', 'L'],\n",
       " ['L', 'L', 'L', 'L', 'L', 'L', 'L', '.', 'L', 'L'],\n",
       " ['L', '.', 'L', '.', 'L', '.', '.', 'L', '.', '.'],\n",
       " ['L', 'L', 'L', 'L', '.', 'L', 'L', '.', 'L', 'L'],\n",
       " ['L', '.', 'L', 'L', '.', 'L', 'L', '.', 'L', 'L'],\n",
       " ['L', '.', 'L', 'L', 'L', 'L', 'L', '.', 'L', 'L'],\n",
       " ['.', '.', 'L', '.', 'L', '.', '.', '.', '.', '.'],\n",
       " ['L', 'L', 'L', 'L', 'L', 'L', 'L', 'L', 'L', 'L'],\n",
       " ['L', '.', 'L', 'L', 'L', 'L', 'L', 'L', '.', 'L'],\n",
       " ['L', '.', 'L', 'L', 'L', 'L', 'L', '.', 'L', 'L']]"
      ]
     },
     "execution_count": 3,
     "metadata": {},
     "output_type": "execute_result"
    }
   ],
   "source": [
    "test = \"\"\"L.LL.LL.LL\n",
    "LLLLLLL.LL\n",
    "L.L.L..L..\n",
    "LLLL.LL.LL\n",
    "L.LL.LL.LL\n",
    "L.LLLLL.LL\n",
    "..L.L.....\n",
    "LLLLLLLLLL\n",
    "L.LLLLLL.L\n",
    "L.LLLLL.LL\"\"\"\n",
    "test = [list(x) for x in test.split('\\n')]\n",
    "test"
   ]
  },
  {
   "cell_type": "code",
   "execution_count": 4,
   "metadata": {},
   "outputs": [],
   "source": [
    "def seatChange(layout,row,col):\n",
    "    if layout[row][col] == '.': return 0\n",
    "    seats, occ = 0,0\n",
    "    for r in range(row-1,row+2):\n",
    "        if r<0 or r==len(layout): continue\n",
    "        for c in range(col-1,col+2):\n",
    "            if c<0 or c==len(layout[0]):continue\n",
    "            if r == row and c == col: continue\n",
    "            occ += layout[r][c]=='#'\n",
    "            seats += (layout[r][c]=='#' or layout[r][c]=='L')\n",
    "    if layout[row][col] == '#': return int(occ>=4)\n",
    "    elif layout[row][col] == 'L' and occ==0: return 1\n",
    "    else: return 0\n"
   ]
  },
  {
   "cell_type": "code",
   "execution_count": 5,
   "metadata": {},
   "outputs": [],
   "source": [
    "def layoutChange(layout):\n",
    "    chg = {'L':'#','#':'L'}\n",
    "    changes = []\n",
    "    for row in range(len(layout)):\n",
    "        newrow = []\n",
    "        for col in range(len(layout[0])):\n",
    "            b = seatChange(layout,row,col)\n",
    "            newrow.append(b)\n",
    "        changes.append(newrow)\n",
    "#             if b:\n",
    "\n",
    "#                 layout[row][col] = chg[layout[row][col]]\n",
    "    return changes"
   ]
  },
  {
   "cell_type": "code",
   "execution_count": 6,
   "metadata": {},
   "outputs": [],
   "source": [
    "def applyChange(layout,changes,row,col):\n",
    "    chg = {'L':'#','#':'L'}\n",
    "    if changes[row][col]: return chg[layout[row][col]]\n",
    "    return layout[row][col]\n",
    "def applyChanges(layout):\n",
    "    t = [x for x in layout]\n",
    "    chg = layoutChange(t)\n",
    "    return sum([sum(x) for x in chg]), [[applyChange(t,chg,r,c) for c in range(len(t[0]))] for r in range(len(t))]"
   ]
  },
  {
   "cell_type": "code",
   "execution_count": 7,
   "metadata": {},
   "outputs": [],
   "source": [
    "#part2\n",
    "def seatChange2(layout,row,col):\n",
    "#     print(row,col)\n",
    "    if layout[row][col] == '.': return 0\n",
    "    occ = 0\n",
    "    for dx in range(-1,2):\n",
    "        for dy in range(-1,2):\n",
    "            if (dx,dy)==(0,0): continue\n",
    "#             print(dx,dy)\n",
    "            n = row + dx\n",
    "            m = col + dy\n",
    "            while 0 <= n < len(layout) and 0 <= m < len(layout[0]) and layout[n][m]=='.':\n",
    "#                 print(n,m)\n",
    "                n+=dx\n",
    "                m+=dy\n",
    "#             print(dx,dy,n,m)\n",
    "            if 0 <= n < len(layout) and 0 <= m < len(layout[0]):\n",
    "#                 print('    ',n,m,layout[n][m],layout[n][m]=='#')\n",
    "                occ += layout[n][m]=='#'\n",
    "#     print(occ)\n",
    "    if layout[row][col] == 'L' and occ==0: return 1\n",
    "    if layout[row][col] == '#' and occ>=5: return 1\n",
    "    return 0\n",
    "        \n",
    "                    \n",
    "        \n",
    "def layoutChange2(layout):\n",
    "    chg = {'L':'#','#':'L'}\n",
    "    changes = []\n",
    "    for row in range(len(layout)):\n",
    "        newrow = []\n",
    "        for col in range(len(layout[0])):\n",
    "            b = seatChange2(layout,row,col)\n",
    "            newrow.append(b)\n",
    "        changes.append(newrow)\n",
    "#             if b:\n",
    "\n",
    "#                 layout[row][col] = chg[layout[row][col]]\n",
    "    return changes\n",
    "\n",
    "\n",
    "def applyChanges2(layout):\n",
    "    t = [x for x in layout]\n",
    "    chg = layoutChange2(t)\n",
    "    return sum([sum(x) for x in chg]), [[applyChange(t,chg,r,c) for c in range(len(t[0]))] for r in range(len(t))]"
   ]
  },
  {
   "cell_type": "code",
   "execution_count": 8,
   "metadata": {},
   "outputs": [
    {
     "name": "stdout",
     "output_type": "stream",
     "text": [
      "95\n",
      "changes: 0\n",
      "occupied: 2441\n"
     ]
    }
   ],
   "source": [
    "l = (0,[x for x in text])\n",
    "i=-1\n",
    "while True:\n",
    "    i+=1\n",
    "    l = applyChanges(l[1])\n",
    "    if l[0]==0: break\n",
    "  \n",
    "    \n",
    "print(i)\n",
    "print('changes:',l[0])\n",
    "print('occupied:',sum([sum([c=='#' for c in r]) for r in l[1]]))\n",
    "# [print(r) for r in l[1]]"
   ]
  },
  {
   "cell_type": "code",
   "execution_count": 9,
   "metadata": {},
   "outputs": [
    {
     "name": "stdout",
     "output_type": "stream",
     "text": [
      "88\n",
      "changes: 0\n",
      "occupied: 2190\n"
     ]
    }
   ],
   "source": [
    "l = (0,[x for x in text])\n",
    "i=-1\n",
    "while True:\n",
    "    i+=1\n",
    "    l = applyChanges2(l[1])\n",
    "    if l[0]==0: break\n",
    "\n",
    "print(i)\n",
    "print('changes:',l[0])\n",
    "print('occupied:',sum([sum([c=='#' for c in r]) for r in l[1]]))\n",
    "# [print(r) for r in l[1]]    "
   ]
  }
 ],
 "metadata": {
  "kernelspec": {
   "display_name": "Python 3",
   "language": "python",
   "name": "python3"
  },
  "language_info": {
   "codemirror_mode": {
    "name": "ipython",
    "version": 3
   },
   "file_extension": ".py",
   "mimetype": "text/x-python",
   "name": "python",
   "nbconvert_exporter": "python",
   "pygments_lexer": "ipython3",
   "version": "3.8.1"
  }
 },
 "nbformat": 4,
 "nbformat_minor": 4
}
