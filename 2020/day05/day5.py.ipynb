{
 "cells": [
  {
   "cell_type": "code",
   "execution_count": 20,
   "metadata": {},
   "outputs": [
    {
     "data": {
      "text/plain": [
       "'FBBBFFFLRL'"
      ]
     },
     "execution_count": 20,
     "metadata": {},
     "output_type": "execute_result"
    }
   ],
   "source": [
    "with open('input.txt') as f:\n",
    "    scans = f.read().split('\\n')\n",
    "scans[0]"
   ]
  },
  {
   "cell_type": "code",
   "execution_count": 15,
   "metadata": {},
   "outputs": [],
   "source": [
    "def bisect(rows):\n",
    "    upper = [int(rows[0]+(rows[1]+1-rows[0])/2),rows[1]]\n",
    "    lower = [rows[0],int(rows[0]+(rows[1]-1-rows[0])/2)]\n",
    "    return lower,upper"
   ]
  },
  {
   "cell_type": "code",
   "execution_count": 32,
   "metadata": {},
   "outputs": [],
   "source": [
    "def parseRow(instructions):\n",
    "    row = [0,127]\n",
    "    seat = [0,7]\n",
    "    for ins in instructions:\n",
    "        if ins == 'F':\n",
    "            row = bisect(row)[0]\n",
    "        elif ins == 'B':\n",
    "            row = bisect(row)[1]\n",
    "        elif ins == 'L':\n",
    "            seat = bisect(seat)[0]\n",
    "        elif ins == 'R':\n",
    "            seat = bisect(seat)[1]\n",
    "    return row[0],seat[0], row[0]*8+seat[0]"
   ]
  },
  {
   "cell_type": "code",
   "execution_count": 33,
   "metadata": {},
   "outputs": [
    {
     "data": {
      "text/plain": [
       "(56, 2, 450)"
      ]
     },
     "execution_count": 33,
     "metadata": {},
     "output_type": "execute_result"
    }
   ],
   "source": [
    "parseRow(scans[0])"
   ]
  },
  {
   "cell_type": "code",
   "execution_count": 34,
   "metadata": {},
   "outputs": [
    {
     "data": {
      "text/plain": [
       "(44, 5, 357)"
      ]
     },
     "execution_count": 34,
     "metadata": {},
     "output_type": "execute_result"
    }
   ],
   "source": [
    "parseRow('FBFBBFFRLR')"
   ]
  },
  {
   "cell_type": "code",
   "execution_count": 35,
   "metadata": {},
   "outputs": [
    {
     "name": "stdout",
     "output_type": "stream",
     "text": [
      "(70, 7, 567)\n",
      "(14, 7, 119)\n",
      "(102, 4, 820)\n"
     ]
    }
   ],
   "source": [
    "print(parseRow('BFFFBBFRRR'))\n",
    "print(parseRow('FFFBBBFRRR'))\n",
    "print(parseRow('BBFFBBFRLL'))"
   ]
  },
  {
   "cell_type": "code",
   "execution_count": 47,
   "metadata": {},
   "outputs": [
    {
     "name": "stdout",
     "output_type": "stream",
     "text": [
      "522\n"
     ]
    }
   ],
   "source": [
    "highest = 0\n",
    "ids = []\n",
    "for x in scans:\n",
    "    ids.append(parseRow(x)[2])\n",
    "    if parseRow(x)[2]>highest:\n",
    "        highest = parseRow(x)[2]\n",
    "ids.sort()\n",
    "for n in range(ids[0],highest+1):\n",
    "    if not n in ids:\n",
    "        print(n)"
   ]
  }
 ],
 "metadata": {
  "kernelspec": {
   "display_name": "Python 3",
   "language": "python",
   "name": "python3"
  },
  "language_info": {
   "codemirror_mode": {
    "name": "ipython",
    "version": 3
   },
   "file_extension": ".py",
   "mimetype": "text/x-python",
   "name": "python",
   "nbconvert_exporter": "python",
   "pygments_lexer": "ipython3",
   "version": "3.8.1"
  }
 },
 "nbformat": 4,
 "nbformat_minor": 4
}
