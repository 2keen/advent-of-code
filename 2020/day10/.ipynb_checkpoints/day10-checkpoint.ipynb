{
 "cells": [
  {
   "cell_type": "code",
   "execution_count": null,
   "metadata": {},
   "outputs": [],
   "source": []
  },
  {
   "cell_type": "code",
   "execution_count": 95,
   "metadata": {},
   "outputs": [
    {
     "data": {
      "text/plain": [
       "[0, 1, 2, 3, 6]"
      ]
     },
     "execution_count": 95,
     "metadata": {},
     "output_type": "execute_result"
    }
   ],
   "source": [
    "text = list(map(int,open('input.txt','r')))+[0]\n",
    "text.sort()\n",
    "text[:5]"
   ]
  },
  {
   "cell_type": "code",
   "execution_count": 59,
   "metadata": {},
   "outputs": [
    {
     "data": {
      "text/plain": [
       "[0, 1, 4, 5, 6, 7, 10, 11, 12, 15, 16, 19]"
      ]
     },
     "execution_count": 59,
     "metadata": {},
     "output_type": "execute_result"
    }
   ],
   "source": [
    "test = [16,10,15,5,1,11,7,19,6,12,4]+[0]\n",
    "test.sort()\n",
    "test"
   ]
  },
  {
   "cell_type": "code",
   "execution_count": 99,
   "metadata": {},
   "outputs": [
    {
     "data": {
      "text/plain": [
       "[1, 2, 3, 4, 7]"
      ]
     },
     "execution_count": 99,
     "metadata": {},
     "output_type": "execute_result"
    }
   ],
   "source": [
    "test2 = [28,33,18,42,31,14,46,20,48,47,24,23,49,45,19,38,39,11,1,32,25,35,8,17,7,9,4,2,34,10,3,]\n",
    "test2.sort()\n",
    "test2[:5]"
   ]
  },
  {
   "cell_type": "code",
   "execution_count": 65,
   "metadata": {},
   "outputs": [
    {
     "name": "stdout",
     "output_type": "stream",
     "text": [
      "2574\n"
     ]
    }
   ],
   "source": [
    "#part1\n",
    "t = text\n",
    "diffs = [t[i+1]-t[i] for i in range(len(t)) if i+1<len(t)]+[3]\n",
    "ct1 = sum([1 for i in diffs if i==1])\n",
    "ct3 = sum([1 for i in diffs if i==3])\n",
    "print(ct1*ct3)\n",
    " "
   ]
  },
  {
   "cell_type": "code",
   "execution_count": 271,
   "metadata": {},
   "outputs": [],
   "source": [
    "#part 2\n"
   ]
  },
  {
   "cell_type": "code",
   "execution_count": 270,
   "metadata": {},
   "outputs": [
    {
     "data": {
      "text/plain": [
       "2644613988352"
      ]
     },
     "execution_count": 270,
     "metadata": {},
     "output_type": "execute_result"
    }
   ],
   "source": [
    "t = text\n",
    "m = {}\n",
    "for i in range(len(t)-1,-1,-1):\n",
    "#     print(i,'\\t', t[i])\n",
    "    paths = []\n",
    "    if i < len(t)-2:\n",
    "        #can get to i+2\n",
    "        if t[i]+3 >= t[i+2]:\n",
    "            paths.append(i+2)\n",
    "    if i < len(t)-3:\n",
    "        #can get to i+3\n",
    "        if t[i]+3 >= t[i+3]:\n",
    "            paths.append(i+3)\n",
    "            \n",
    "    if i == len(t)-1:\n",
    "        paths = [len(t)-1]\n",
    "        m[i] = 1\n",
    "    else:\n",
    "        paths.append(i+1)\n",
    "        m[i] = sum([m[x] for x in paths])\n",
    "\n",
    "m[0]\n"
   ]
  }
 ],
 "metadata": {
  "kernelspec": {
   "display_name": "Python 3",
   "language": "python",
   "name": "python3"
  },
  "language_info": {
   "codemirror_mode": {
    "name": "ipython",
    "version": 3
   },
   "file_extension": ".py",
   "mimetype": "text/x-python",
   "name": "python",
   "nbconvert_exporter": "python",
   "pygments_lexer": "ipython3",
   "version": "3.8.1"
  }
 },
 "nbformat": 4,
 "nbformat_minor": 4
}
