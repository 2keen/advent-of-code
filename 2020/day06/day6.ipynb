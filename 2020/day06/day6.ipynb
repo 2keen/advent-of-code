{
 "cells": [
  {
   "cell_type": "code",
   "execution_count": 57,
   "metadata": {},
   "outputs": [],
   "source": [
    "with open('input.txt') as f:\n",
    "    forms = f.read().split('\\n\\n')"
   ]
  },
  {
   "cell_type": "code",
   "execution_count": 58,
   "metadata": {},
   "outputs": [
    {
     "data": {
      "text/plain": [
       "6680"
      ]
     },
     "execution_count": 58,
     "metadata": {},
     "output_type": "execute_result"
    }
   ],
   "source": [
    "yesses = []\n",
    "for x in forms:\n",
    "    x = x.replace('\\n','')\n",
    "    yesses.append(len(set(x)))\n",
    "sum(yesses)"
   ]
  },
  {
   "cell_type": "code",
   "execution_count": 48,
   "metadata": {},
   "outputs": [
    {
     "data": {
      "text/plain": [
       "['vmzodatscnrfek', 'epjkrabmiusofzclt']"
      ]
     },
     "execution_count": 48,
     "metadata": {},
     "output_type": "execute_result"
    }
   ],
   "source": [
    "x = forms[0].split('\\n')\n",
    "x"
   ]
  },
  {
   "cell_type": "code",
   "execution_count": 26,
   "metadata": {},
   "outputs": [
    {
     "data": {
      "text/plain": [
       "['i', 'p', 's', 'l']"
      ]
     },
     "execution_count": 26,
     "metadata": {},
     "output_type": "execute_result"
    }
   ],
   "source": [
    "[c for c in x[0] and x[1]]"
   ]
  },
  {
   "cell_type": "code",
   "execution_count": 46,
   "metadata": {},
   "outputs": [
    {
     "data": {
      "text/plain": [
       "['fxdogrbqmu', 'xdqocgjbrm', 'rbdmoqcg', 'qemgdtorbhpz', 'mbklgqosdr']"
      ]
     },
     "execution_count": 46,
     "metadata": {},
     "output_type": "execute_result"
    }
   ],
   "source": [
    "x = forms[7].split('\\n')\n",
    "x"
   ]
  },
  {
   "cell_type": "code",
   "execution_count": 24,
   "metadata": {},
   "outputs": [
    {
     "data": {
      "text/plain": [
       "['i', 'p', 's', 'l']"
      ]
     },
     "execution_count": 24,
     "metadata": {},
     "output_type": "execute_result"
    }
   ],
   "source": [
    "[c for c in x[0] and x[1]]"
   ]
  },
  {
   "cell_type": "code",
   "execution_count": null,
   "metadata": {},
   "outputs": [],
   "source": [
    "#part 2"
   ]
  },
  {
   "cell_type": "code",
   "execution_count": 105,
   "metadata": {},
   "outputs": [],
   "source": [
    "def Unanimous(group):\n",
    "    first = [c for c in group[0]]\n",
    "    for p in group:\n",
    "        for c in first:\n",
    "            if c not in p:\n",
    "                first.remove(c)\n",
    "    removed = True\n",
    "    while removed:\n",
    "        for p in group:\n",
    "            removed = False\n",
    "            for c in first:\n",
    "                if c not in p:\n",
    "                    removed = True\n",
    "                    first.remove(c)\n",
    "#     for p in group:\n",
    "#         for c in first:\n",
    "#             if c not in p:\n",
    "#                 first.remove(c)\n",
    "#     for p in group:\n",
    "#         for c in first:\n",
    "#             if c not in p:\n",
    "#                 first.remove(c)\n",
    "#     for p in group:\n",
    "#         for c in first:\n",
    "#             if c not in p:\n",
    "#                 first.remove(c)\n",
    "    return first  "
   ]
  },
  {
   "cell_type": "code",
   "execution_count": 106,
   "metadata": {},
   "outputs": [
    {
     "data": {
      "text/plain": [
       "3117"
      ]
     },
     "execution_count": 106,
     "metadata": {},
     "output_type": "execute_result"
    }
   ],
   "source": [
    "count = 0\n",
    "counts = []\n",
    "for a in forms:\n",
    "    a = a.split('\\n')\n",
    "    unam = Unanimous(a)\n",
    "#     print(a)\n",
    "#     print(unam)\n",
    "#     print(len(unam))\n",
    "#     print()\n",
    "    count += len(Unanimous(a))\n",
    "    counts.append(len(unam))\n",
    "count"
   ]
  },
  {
   "cell_type": "code",
   "execution_count": null,
   "metadata": {},
   "outputs": [],
   "source": []
  }
 ],
 "metadata": {
  "kernelspec": {
   "display_name": "Python 3",
   "language": "python",
   "name": "python3"
  },
  "language_info": {
   "codemirror_mode": {
    "name": "ipython",
    "version": 3
   },
   "file_extension": ".py",
   "mimetype": "text/x-python",
   "name": "python",
   "nbconvert_exporter": "python",
   "pygments_lexer": "ipython3",
   "version": "3.8.1"
  }
 },
 "nbformat": 4,
 "nbformat_minor": 4
}
