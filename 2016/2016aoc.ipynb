{
 "cells": [
  {
   "cell_type": "code",
   "execution_count": 95,
   "metadata": {},
   "outputs": [
    {
     "data": {
      "text/plain": [
       "['R2', 'L3', 'R2', 'R4', 'L2']"
      ]
     },
     "execution_count": 95,
     "metadata": {},
     "output_type": "execute_result"
    }
   ],
   "source": [
    "directions = open('2016day1_input.txt','r').read().split(', ')\n",
    "directions[:5]"
   ]
  },
  {
   "cell_type": "code",
   "execution_count": 96,
   "metadata": {},
   "outputs": [
    {
     "data": {
      "text/plain": [
       "('R2', 'L2')"
      ]
     },
     "execution_count": 96,
     "metadata": {},
     "output_type": "execute_result"
    }
   ],
   "source": [
    "directions[0],directions[-1]"
   ]
  },
  {
   "cell_type": "code",
   "execution_count": null,
   "metadata": {},
   "outputs": [],
   "source": [
    "[directions]"
   ]
  },
  {
   "cell_type": "code",
   "execution_count": null,
   "metadata": {},
   "outputs": [],
   "source": []
  },
  {
   "cell_type": "code",
   "execution_count": 18,
   "metadata": {},
   "outputs": [
    {
     "name": "stdout",
     "output_type": "stream",
     "text": [
      "[90, -123, -123]\n",
      "246\n"
     ]
    }
   ],
   "source": [
    "# directions = 'R2, R2, R2'.split(', ')\n",
    "\n",
    "pos = [90, 0, 0]\n",
    "\n",
    "for d in directions:\n",
    "    if d[0] == 'R':\n",
    "        pos[0] = (pos[0] - 90) % 360\n",
    "    elif d[0] == 'L':\n",
    "        pos[0] = (pos[0] + 90) % 360\n",
    "    \n",
    "    blocks = int(d[1:])\n",
    "    if pos[0] == 0:\n",
    "        pos[1] += blocks\n",
    "    \n",
    "    elif pos[0] == 90:\n",
    "        pos[2] += blocks\n",
    "    \n",
    "    elif pos[0] == 180:\n",
    "        pos[1] -= blocks\n",
    "    \n",
    "    elif pos[0] == 270:\n",
    "        pos[2] -= blocks\n",
    "\n",
    "print(pos)\n",
    "print(abs(pos[1]) + abs(pos[2]))"
   ]
  },
  {
   "cell_type": "code",
   "execution_count": 7,
   "metadata": {},
   "outputs": [
    {
     "data": {
      "text/plain": [
       "[1, 2, 3]"
      ]
     },
     "execution_count": 7,
     "metadata": {},
     "output_type": "execute_result"
    }
   ],
   "source": [
    "[0,1,2,3][1:4]"
   ]
  },
  {
   "cell_type": "code",
   "execution_count": null,
   "metadata": {},
   "outputs": [],
   "source": []
  },
  {
   "cell_type": "code",
   "execution_count": null,
   "metadata": {},
   "outputs": [],
   "source": []
  },
  {
   "cell_type": "code",
   "execution_count": null,
   "metadata": {},
   "outputs": [],
   "source": [
    "# directions = 'R2, R2, R2'.split(', ')\n",
    "\n",
    "pos = [90, 0, 0]\n",
    "\n",
    "for d in directions:\n",
    "    if d[0] == 'R':\n",
    "        pos[0] = (pos[0] - 90) % 360\n",
    "    elif d[0] == 'L':\n",
    "        pos[0] = (pos[0] + 90) % 360\n",
    "    \n",
    "    blocks = int(d[1:])\n",
    "    if pos[0] == 0:\n",
    "        pos[1] += blocks\n",
    "    \n",
    "    elif pos[0] == 90:\n",
    "        pos[2] += blocks\n",
    "    \n",
    "    elif pos[0] == 180:\n",
    "        pos[1] -= blocks\n",
    "    \n",
    "    elif pos[0] == 270:\n",
    "        pos[2] -= blocks\n",
    "\n",
    "print(pos)\n",
    "print(abs(pos[1]) + abs(pos[2]))"
   ]
  },
  {
   "cell_type": "code",
   "execution_count": 80,
   "metadata": {},
   "outputs": [],
   "source": [
    "def getpos(d,pos):\n",
    "    pos[0] = (pos[0] + (1-2*(d[0] == 'R'))) % 4\n",
    "    pos[1+(pos[0]%2==0)] += int(d[1:]) * (1-2*(pos[0]>1))  \n",
    "    return pos"
   ]
  },
  {
   "cell_type": "code",
   "execution_count": null,
   "metadata": {},
   "outputs": [],
   "source": []
  },
  {
   "cell_type": "code",
   "execution_count": 103,
   "metadata": {},
   "outputs": [
    {
     "name": "stdout",
     "output_type": "stream",
     "text": [
      "R8\n",
      "[0, 1]\n",
      "[-1, 1]\n",
      "[-1, 0]\n",
      "[0, 0]\n",
      "R4\n",
      "[0, 1]\n",
      "[-1, 1]\n",
      "[-1, 0]\n",
      "[0, 0]\n",
      "R4\n",
      "[0, 1]\n",
      "[-1, 1]\n",
      "[-1, 0]\n",
      "[0, 0]\n",
      "R8\n",
      "[0, 1]\n",
      "[-1, 1]\n",
      "[-1, 0]\n",
      "[0, 0]\n",
      "[0, 1]\n",
      "[-1, 1]\n",
      "[-1, 0]\n",
      "[0, 0]\n",
      "R8\n",
      "[0, 1]\n",
      "[-1, 1]\n",
      "[-1, 0]\n",
      "[0, 0]\n",
      "[0, 1]\n",
      "[-1, 1]\n",
      "[-1, 0]\n",
      "[0, 0]\n",
      "R4\n",
      "[0, 1]\n",
      "[-1, 1]\n",
      "[-1, 0]\n",
      "[0, 0]\n",
      "R4\n",
      "[0, 1]\n",
      "[-1, 1]\n",
      "[-1, 0]\n",
      "[0, 0]\n",
      "R8\n",
      "[0, 1]\n",
      "[-1, 1]\n",
      "[-1, 0]\n",
      "[0, 0]\n",
      "[0, 1]\n",
      "[-1, 1]\n",
      "[-1, 0]\n",
      "[0, 0]\n",
      "R8\n",
      "[0, 1]\n",
      "[-1, 1]\n",
      "[-1, 0]\n",
      "[0, 0]\n",
      "[0, 1]\n",
      "[-1, 1]\n",
      "[-1, 0]\n",
      "[0, 0]\n",
      "R4\n",
      "[0, 1]\n",
      "[-1, 1]\n",
      "[-1, 0]\n",
      "[0, 0]\n"
     ]
    },
    {
     "data": {
      "text/plain": [
       "[0, 0]"
      ]
     },
     "execution_count": 103,
     "metadata": {},
     "output_type": "execute_result"
    }
   ],
   "source": [
    "directions = 'R8, R4, R4, R8'.split(', ')\n",
    "pos = [0, 0]\n",
    "d = 1\n",
    "pset = set()\n",
    "i = 0\n",
    "# while tuple(pos[1:]) not in pset:\n",
    "for i in range(10):\n",
    "    print(directions[i%len(directions)])\n",
    "    line = directions[i%len(directions)]\n",
    "    for step in range(int(line[1:])):\n",
    "        d = (d + (1-2*(line[0] == 'R'))) % 4\n",
    "        pos[(d%2==0)] += (1-2*(d>1))\n",
    "        if tuple(pos) in pset: print(pos)\n",
    "        pset.add(tuple(pos))\n",
    "    \n",
    "#     print(pos, i, i%len(directions),directions[i%len(directions)])\n",
    "#     d = directions[i%len(directions)]\n",
    "#     pset.add(tuple(pos[1:]))\n",
    "#     pos = getpos(d,pos)\n",
    "#     i+=1\n",
    "pos    "
   ]
  },
  {
   "cell_type": "code",
   "execution_count": 82,
   "metadata": {},
   "outputs": [
    {
     "name": "stdout",
     "output_type": "stream",
     "text": [
      "[90, -123, -123]\n"
     ]
    },
    {
     "data": {
      "text/plain": [
       "[1, -123, -123]"
      ]
     },
     "execution_count": 82,
     "metadata": {},
     "output_type": "execute_result"
    }
   ],
   "source": [
    "print([90, -123, -123])\n",
    "pos"
   ]
  },
  {
   "cell_type": "code",
   "execution_count": null,
   "metadata": {},
   "outputs": [],
   "source": []
  },
  {
   "cell_type": "code",
   "execution_count": null,
   "metadata": {},
   "outputs": [],
   "source": [
    "a =set()\n",
    "a.add(pos[1:])\n",
    "\n",
    "pos[1:] in a"
   ]
  },
  {
   "cell_type": "code",
   "execution_count": null,
   "metadata": {},
   "outputs": [],
   "source": []
  },
  {
   "cell_type": "code",
   "execution_count": 26,
   "metadata": {},
   "outputs": [
    {
     "name": "stdout",
     "output_type": "stream",
     "text": [
      "0 0 0\n",
      "90 90 0\n",
      "180 0 1\n",
      "270 90 1\n",
      "360 0 0\n",
      "450 90 0\n",
      "540 0 1\n",
      "630 90 1\n",
      "720 0 0\n",
      "810 90 0\n"
     ]
    }
   ],
   "source": [
    "for i in range(10):\n",
    "    n = 90*i\n",
    "    print(n,n%180,n//180%2)"
   ]
  },
  {
   "cell_type": "code",
   "execution_count": null,
   "metadata": {},
   "outputs": [],
   "source": []
  }
 ],
 "metadata": {
  "kernelspec": {
   "display_name": "venv",
   "language": "python",
   "name": "venv"
  },
  "language_info": {
   "codemirror_mode": {
    "name": "ipython",
    "version": 3
   },
   "file_extension": ".py",
   "mimetype": "text/x-python",
   "name": "python",
   "nbconvert_exporter": "python",
   "pygments_lexer": "ipython3",
   "version": "3.8.1"
  }
 },
 "nbformat": 4,
 "nbformat_minor": 4
}
