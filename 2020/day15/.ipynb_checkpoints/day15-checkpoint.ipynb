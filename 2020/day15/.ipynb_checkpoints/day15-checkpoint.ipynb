{
 "cells": [
  {
   "cell_type": "code",
   "execution_count": 1,
   "metadata": {},
   "outputs": [],
   "source": [
    "start = [14,8,16,0,1,17]"
   ]
  },
  {
   "cell_type": "code",
   "execution_count": null,
   "metadata": {},
   "outputs": [],
   "source": []
  },
  {
   "cell_type": "code",
   "execution_count": 2,
   "metadata": {},
   "outputs": [],
   "source": [
    "def play(target, nums):\n",
    "#     print(f'target: {target}')\n",
    "    \n",
    "    memory = {}\n",
    "    lastsaid = nums[0]\n",
    "    for i in range(len(nums)-1):\n",
    "        memory[lastsaid] = i+1\n",
    "        lastsaid = nums[i+1]\n",
    "    turn = i+1\n",
    "    while turn < target-1:\n",
    "#         if turn%10000==0: print(f'target: {turn}        ', end='\\r')\n",
    "        turn += 1\n",
    "        remember = memory.get(lastsaid)\n",
    "        memory[lastsaid] = turn\n",
    "        if remember:\n",
    "            lastsaid = turn-remember\n",
    "        else:\n",
    "            lastsaid = 0\n",
    " \n",
    "    return lastsaid    "
   ]
  },
  {
   "cell_type": "code",
   "execution_count": 3,
   "metadata": {},
   "outputs": [
    {
     "name": "stdout",
     "output_type": "stream",
     "text": [
      "\n",
      "240\n",
      "\n",
      "505\n"
     ]
    }
   ],
   "source": [
    "print(play(2020,start))\n",
    "print(play(30000000,start))"
   ]
  },
  {
   "cell_type": "code",
   "execution_count": 5,
   "metadata": {},
   "outputs": [
    {
     "ename": "ModuleNotFoundError",
     "evalue": "No module named 'numpy'",
     "output_type": "error",
     "traceback": [
      "\u001b[1;31m---------------------------------------------------------------------------\u001b[0m",
      "\u001b[1;31mModuleNotFoundError\u001b[0m                       Traceback (most recent call last)",
      "\u001b[1;32m<ipython-input-5-d5759b667d0d>\u001b[0m in \u001b[0;36m<module>\u001b[1;34m\u001b[0m\n\u001b[1;32m----> 1\u001b[1;33m \u001b[1;32mimport\u001b[0m \u001b[0mnumpy\u001b[0m \u001b[1;32mas\u001b[0m \u001b[0mnp\u001b[0m\u001b[1;33m\u001b[0m\u001b[1;33m\u001b[0m\u001b[0m\n\u001b[0m\u001b[0;32m      2\u001b[0m \u001b[0mnums\u001b[0m \u001b[1;33m=\u001b[0m \u001b[0mnp\u001b[0m\u001b[1;33m.\u001b[0m\u001b[0marray\u001b[0m\u001b[1;33m(\u001b[0m\u001b[1;33m[\u001b[0m\u001b[1;36m11\u001b[0m\u001b[1;33m,\u001b[0m\u001b[1;36m0\u001b[0m\u001b[1;33m,\u001b[0m\u001b[1;36m1\u001b[0m\u001b[1;33m,\u001b[0m\u001b[1;36m10\u001b[0m\u001b[1;33m,\u001b[0m\u001b[1;36m5\u001b[0m\u001b[1;33m,\u001b[0m\u001b[1;36m19\u001b[0m\u001b[1;33m]\u001b[0m\u001b[1;33m,\u001b[0m \u001b[0mdtype\u001b[0m\u001b[1;33m=\u001b[0m\u001b[0mnp\u001b[0m\u001b[1;33m.\u001b[0m\u001b[0mint64\u001b[0m\u001b[1;33m)\u001b[0m\u001b[1;33m\u001b[0m\u001b[1;33m\u001b[0m\u001b[0m\n\u001b[0;32m      3\u001b[0m \u001b[1;33m\u001b[0m\u001b[0m\n\u001b[0;32m      4\u001b[0m \u001b[1;32mdef\u001b[0m \u001b[0mday15\u001b[0m\u001b[1;33m(\u001b[0m\u001b[0mnums\u001b[0m\u001b[1;33m,\u001b[0m \u001b[0mN\u001b[0m\u001b[1;33m)\u001b[0m\u001b[1;33m:\u001b[0m\u001b[1;33m\u001b[0m\u001b[1;33m\u001b[0m\u001b[0m\n\u001b[0;32m      5\u001b[0m     \u001b[0mlast\u001b[0m \u001b[1;33m=\u001b[0m \u001b[1;33m{\u001b[0m\u001b[1;33m}\u001b[0m\u001b[1;33m\u001b[0m\u001b[1;33m\u001b[0m\u001b[0m\n",
      "\u001b[1;31mModuleNotFoundError\u001b[0m: No module named 'numpy'"
     ]
    }
   ],
   "source": [
    "import numpy as np\n",
    "nums = np.array([11,0,1,10,5,19], dtype=np.int64)\n",
    "\n",
    "def day15(nums, N):\n",
    "    last = {}\n",
    "    for i, x in enumerate(nums[:-1]):\n",
    "        last[x] = i\n",
    "    buffer = nums[-1]\n",
    "    for i in range(len(nums) - 1, N - 1):\n",
    "        x = i - last[buffer] if buffer in last else 0\n",
    "        last[buffer] = i\n",
    "        buffer = x\n",
    "    return buffer\n",
    "\n",
    "print(day15(nums, 2020))\n",
    "print(day15(nums, 30000000))"
   ]
  },
  {
   "cell_type": "code",
   "execution_count": null,
   "metadata": {},
   "outputs": [],
   "source": [
    "from numba import njit\n",
    "\n",
    "nums = np.array([11,0,1,10,5,19], dtype=np.int64)\n",
    "\n",
    "@njit\n",
    "def day15(nums, N):\n",
    "    last = {}\n",
    "    for i, x in enumerate(nums[:-1]):\n",
    "        last[x] = i\n",
    "    buffer = nums[-1]\n",
    "    for i in range(len(nums) - 1, N - 1):\n",
    "        x = i - last[buffer] if buffer in last else 0\n",
    "        last[buffer] = i\n",
    "        buffer = x\n",
    "    return buffer\n",
    "\n",
    "print(day15(nums, 2020))\n",
    "print(day15(nums, 30000000))"
   ]
  },
  {
   "cell_type": "code",
   "execution_count": null,
   "metadata": {},
   "outputs": [],
   "source": [
    "#Without using a hashmap, 1.37s"
   ]
  },
  {
   "cell_type": "code",
   "execution_count": null,
   "metadata": {},
   "outputs": [],
   "source": [
    "import numpy as np\n",
    "\n",
    "from numba import njit\n",
    "from numba import types\n",
    "from numba.typed import Dict\n",
    "\n",
    "\n",
    "nums = np.array([11,0,1,10,5,19], dtype=np.int64)\n",
    "\n",
    "@njit(\"int64(int64[:], int64)\")\n",
    "def day15(nums, N):\n",
    "    last = np.full(N, -1, dtype=np.int64)\n",
    "    for i, x in enumerate(nums[:-1]):\n",
    "        last[x] = i\n",
    "    buffer = nums[-1]\n",
    "    for i in range(len(nums) - 1, N - 1):\n",
    "        y = 0 if last[buffer] == -1 else i - last[buffer]\n",
    "        last[buffer], buffer = i, y\n",
    "    return buffer\n",
    "\n",
    "print(day15(nums, 2020))\n",
    "print(day15(nums, 30000000))"
   ]
  },
  {
   "cell_type": "code",
   "execution_count": null,
   "metadata": {},
   "outputs": [],
   "source": []
  },
  {
   "cell_type": "code",
   "execution_count": null,
   "metadata": {},
   "outputs": [],
   "source": []
  }
 ],
 "metadata": {
  "kernelspec": {
   "display_name": "Python 3",
   "language": "python",
   "name": "python3"
  },
  "language_info": {
   "codemirror_mode": {
    "name": "ipython",
    "version": 3
   },
   "file_extension": ".py",
   "mimetype": "text/x-python",
   "name": "python",
   "nbconvert_exporter": "python",
   "pygments_lexer": "ipython3",
   "version": "3.9.0"
  }
 },
 "nbformat": 4,
 "nbformat_minor": 4
}
