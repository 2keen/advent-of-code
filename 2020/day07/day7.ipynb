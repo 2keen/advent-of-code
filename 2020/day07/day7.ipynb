{
 "cells": [
  {
   "cell_type": "code",
   "execution_count": 27,
   "metadata": {},
   "outputs": [
    {
     "data": {
      "text/plain": [
       "['light salmon bags contain 5 dark brown bags, 2 dotted coral bags, 5 mirrored turquoise bags.',\n",
       " 'drab magenta bags contain 1 vibrant purple bag, 5 dark lime bags, 2 clear silver bags.',\n",
       " 'striped coral bags contain 2 dim lime bags.',\n",
       " 'drab cyan bags contain 1 dark lime bag.',\n",
       " 'bright purple bags contain 5 posh salmon bags, 1 posh blue bag, 1 shiny lavender bag.']"
      ]
     },
     "execution_count": 27,
     "metadata": {},
     "output_type": "execute_result"
    }
   ],
   "source": [
    "with open('input.txt') as f:\n",
    "    bags = f.read().split('\\n')\n",
    "bags[:5]"
   ]
  },
  {
   "cell_type": "code",
   "execution_count": 83,
   "metadata": {},
   "outputs": [],
   "source": [
    "def parseBag(instruction):\n",
    "#     bgraph = {}\n",
    "    size = {}\n",
    "    for s in instruction.split(' bags ')[1][8:].split(', '):\n",
    "        if s == 'no other bags.':\n",
    "            size = {}\n",
    "        else:\n",
    "            size[' '.join(s.split(' bag')[0].split(' ')[1:])] = int(s.split(' bag')[0].split(' ')[0])\n",
    "        \n",
    "#     bgraph[instruction.split(' bags ')[0]] = size\n",
    "    return instruction.split(' bags ')[0], size"
   ]
  },
  {
   "cell_type": "code",
   "execution_count": 107,
   "metadata": {},
   "outputs": [],
   "source": [
    "def find_path(baggraph, start, end, path=[]):\n",
    "    path = path + [start]\n",
    "    if  end in baggraph[start]:\n",
    "        return path\n",
    "    for k in baggraph[start].keys():\n",
    "        if k not in path:\n",
    "            newpath = find_path(baggraph, k, end, path=path)\n",
    "            if newpath: return newpath\n",
    "    return None"
   ]
  },
  {
   "cell_type": "code",
   "execution_count": 115,
   "metadata": {},
   "outputs": [
    {
     "name": "stdout",
     "output_type": "stream",
     "text": [
      "355\n"
     ]
    }
   ],
   "source": [
    "target = 'shiny gold'\n",
    "paths = []\n",
    "success = 0\n",
    "for b in list(baggraph.keys()):\n",
    "    t = find_path(baggraph, b, target)\n",
    "    if t is not None: success += 1\n",
    "    paths.append((b,  t))\n",
    "print(success)\n",
    "# paths"
   ]
  },
  {
   "cell_type": "code",
   "execution_count": null,
   "metadata": {},
   "outputs": [],
   "source": [
    "#part 2"
   ]
  },
  {
   "cell_type": "code",
   "execution_count": 137,
   "metadata": {},
   "outputs": [],
   "source": [
    "def countBags(baggraph, start):\n",
    "    count=0\n",
    "#     print(baggraph[start].keys())\n",
    "    for k in baggraph[start].keys():\n",
    "#         print(k, baggraph[start][k])\n",
    "        count += baggraph[start][k] * (countBags(baggraph, k)+1)\n",
    "    return count"
   ]
  },
  {
   "cell_type": "code",
   "execution_count": 138,
   "metadata": {},
   "outputs": [
    {
     "data": {
      "text/plain": [
       "5312"
      ]
     },
     "execution_count": 138,
     "metadata": {},
     "output_type": "execute_result"
    }
   ],
   "source": [
    "countBags(baggraph, 'shiny gold')"
   ]
  },
  {
   "cell_type": "code",
   "execution_count": 128,
   "metadata": {},
   "outputs": [
    {
     "data": {
      "text/plain": [
       "{'clear magenta': 4,\n",
       " 'mirrored turquoise': 3,\n",
       " 'plaid maroon': 2,\n",
       " 'bright crimson': 5}"
      ]
     },
     "execution_count": 128,
     "metadata": {},
     "output_type": "execute_result"
    }
   ],
   "source": [
    "baggraph['shiny gold']"
   ]
  },
  {
   "cell_type": "code",
   "execution_count": 129,
   "metadata": {},
   "outputs": [
    {
     "data": {
      "text/plain": [
       "4"
      ]
     },
     "execution_count": 129,
     "metadata": {},
     "output_type": "execute_result"
    }
   ],
   "source": [
    "baggraph['shiny gold']['clear magenta']"
   ]
  },
  {
   "cell_type": "code",
   "execution_count": 121,
   "metadata": {},
   "outputs": [
    {
     "data": {
      "text/plain": [
       "0"
      ]
     },
     "execution_count": 121,
     "metadata": {},
     "output_type": "execute_result"
    }
   ],
   "source": [
    "len(baggraph['light gold'])"
   ]
  },
  {
   "cell_type": "code",
   "execution_count": 124,
   "metadata": {},
   "outputs": [],
   "source": [
    "['a',0].append(('b',2))"
   ]
  },
  {
   "cell_type": "code",
   "execution_count": 125,
   "metadata": {},
   "outputs": [
    {
     "data": {
      "text/plain": [
       "['a', 0, ('b', 2)]"
      ]
     },
     "execution_count": 125,
     "metadata": {},
     "output_type": "execute_result"
    }
   ],
   "source": [
    "a = ['a',0]\n",
    "a.append(('b',2))\n",
    "a"
   ]
  }
 ],
 "metadata": {
  "kernelspec": {
   "display_name": "Python 3",
   "language": "python",
   "name": "python3"
  },
  "language_info": {
   "codemirror_mode": {
    "name": "ipython",
    "version": 3
   },
   "file_extension": ".py",
   "mimetype": "text/x-python",
   "name": "python",
   "nbconvert_exporter": "python",
   "pygments_lexer": "ipython3",
   "version": "3.8.1"
  }
 },
 "nbformat": 4,
 "nbformat_minor": 4
}
