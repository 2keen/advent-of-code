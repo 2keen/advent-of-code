{
 "cells": [
  {
   "cell_type": "code",
   "execution_count": 27,
   "metadata": {},
   "outputs": [
    {
     "data": {
      "text/plain": [
       "'()()(()()()(()()((()'"
      ]
     },
     "execution_count": 27,
     "metadata": {},
     "output_type": "execute_result"
    }
   ],
   "source": [
    "instructions = open('input.txt','r').read()\n",
    "instructions[:20]"
   ]
  },
  {
   "cell_type": "code",
   "execution_count": null,
   "metadata": {},
   "outputs": [],
   "source": []
  },
  {
   "cell_type": "code",
   "execution_count": 52,
   "metadata": {},
   "outputs": [],
   "source": [
    "tests = [\n",
    "    '(())',     #0\n",
    "    '()()',     #0\n",
    "    '(()(()(',  #3\n",
    "    ')())())',   #-3\n",
    "    '()())',\n",
    "]"
   ]
  },
  {
   "cell_type": "code",
   "execution_count": 44,
   "metadata": {},
   "outputs": [],
   "source": [
    "def getFloor(t, start = 0):\n",
    "    return sum([2*(x == '(')-1 for x in t])+start"
   ]
  },
  {
   "cell_type": "code",
   "execution_count": 46,
   "metadata": {},
   "outputs": [],
   "source": [
    "def getFloor2(t, start = 0):\n",
    "    floor = start\n",
    "\n",
    "    for x in t:\n",
    "        if x == '(': floor +=1\n",
    "        if x == ')': floor -=1\n",
    "\n",
    "    return floor"
   ]
  },
  {
   "cell_type": "code",
   "execution_count": null,
   "metadata": {},
   "outputs": [],
   "source": []
  },
  {
   "cell_type": "code",
   "execution_count": 47,
   "metadata": {},
   "outputs": [
    {
     "name": "stdout",
     "output_type": "stream",
     "text": [
      "0\n",
      "0\n",
      "3\n",
      "-3\n"
     ]
    }
   ],
   "source": [
    "for t in tests:\n",
    "    print(getFloor2(t))"
   ]
  },
  {
   "cell_type": "code",
   "execution_count": 48,
   "metadata": {},
   "outputs": [
    {
     "data": {
      "text/plain": [
       "280"
      ]
     },
     "execution_count": 48,
     "metadata": {},
     "output_type": "execute_result"
    }
   ],
   "source": [
    "getFloor(instructions)"
   ]
  },
  {
   "cell_type": "code",
   "execution_count": null,
   "metadata": {},
   "outputs": [],
   "source": [
    "#part 2"
   ]
  },
  {
   "cell_type": "code",
   "execution_count": 56,
   "metadata": {},
   "outputs": [
    {
     "name": "stdout",
     "output_type": "stream",
     "text": [
      "5\n"
     ]
    }
   ],
   "source": [
    "t = '()())' #5\n",
    "floor = start = 0\n",
    "pos = 0\n",
    "for x in t:\n",
    "    pos += 1\n",
    "    if x == '(': floor +=1\n",
    "    if x == ')': floor -=1\n",
    "    if floor < 0: break\n",
    "\n",
    "print(pos)"
   ]
  },
  {
   "cell_type": "code",
   "execution_count": 57,
   "metadata": {},
   "outputs": [],
   "source": [
    "def getBasement(t, start=0):\n",
    "\n",
    "    floor = start\n",
    "    pos = 0\n",
    "    for x in t:\n",
    "        pos += 1\n",
    "        if x == '(': floor +=1\n",
    "        if x == ')': floor -=1\n",
    "        if floor < 0: break\n",
    "\n",
    "    return pos"
   ]
  },
  {
   "cell_type": "code",
   "execution_count": 61,
   "metadata": {},
   "outputs": [],
   "source": [
    "def getBasement2(t,start=0):\n",
    "    a = [2*(x == '(')-1 for x in t]\n",
    "    \n",
    "    for i in range(len(a)):\n",
    "        if sum(a[:i+1]) == -1:\n",
    "            return i+1"
   ]
  },
  {
   "cell_type": "code",
   "execution_count": 63,
   "metadata": {},
   "outputs": [
    {
     "data": {
      "text/plain": [
       "1797"
      ]
     },
     "execution_count": 63,
     "metadata": {},
     "output_type": "execute_result"
    }
   ],
   "source": [
    "getBasement2(instructions)"
   ]
  }
 ],
 "metadata": {
  "kernelspec": {
   "display_name": "Python 3",
   "language": "python",
   "name": "python3"
  },
  "language_info": {
   "codemirror_mode": {
    "name": "ipython",
    "version": 3
   },
   "file_extension": ".py",
   "mimetype": "text/x-python",
   "name": "python",
   "nbconvert_exporter": "python",
   "pygments_lexer": "ipython3",
   "version": "3.9.0"
  }
 },
 "nbformat": 4,
 "nbformat_minor": 4
}
