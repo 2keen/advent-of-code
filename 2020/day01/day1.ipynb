{
 "cells": [
  {
   "cell_type": "code",
   "execution_count": null,
   "metadata": {},
   "outputs": [],
   "source": []
  },
  {
   "cell_type": "code",
   "execution_count": 4,
   "metadata": {},
   "outputs": [],
   "source": [
    "with open('input.txt') as f:\n",
    "    nums = [int(line) for line in f.readlines()]\n"
   ]
  },
  {
   "cell_type": "code",
   "execution_count": 7,
   "metadata": {},
   "outputs": [],
   "source": [
    "t1 = [1721,979,366,299,675,1456]"
   ]
  },
  {
   "cell_type": "code",
   "execution_count": 2,
   "metadata": {},
   "outputs": [
    {
     "name": "stdout",
     "output_type": "stream",
     "text": [
      "0 1721 979 2700\n",
      "0 1721 366 2087\n",
      "0 1721 299 2020\n",
      "0 1721 675 2396\n",
      "0 1721 1456 3177\n",
      "1 979 366 1345\n",
      "1 979 299 1278\n",
      "1 979 675 1654\n",
      "1 979 1456 2435\n",
      "2 366 299 665\n",
      "2 366 675 1041\n",
      "2 366 1456 1822\n",
      "3 299 675 974\n",
      "3 299 1456 1755\n",
      "4 675 1456 2131\n"
     ]
    }
   ],
   "source": [
    "for i,x in enumerate(t1):\n",
    "    for y in t1[i+1:]:\n",
    "        print(i,x,y,x+y)"
   ]
  },
  {
   "cell_type": "code",
   "execution_count": 5,
   "metadata": {},
   "outputs": [],
   "source": [
    "def find2020(nums):\n",
    "    nums.sort()\n",
    "    for i,x in enumerate(nums):\n",
    "        for y in nums[i+1:]:\n",
    "#             print(f'{x}+{y}={x+y}')\n",
    "            if x+y==2020: \n",
    "                return x*y\n",
    "            elif x+y>2020:\n",
    "                break\n",
    "    return -1"
   ]
  },
  {
   "cell_type": "code",
   "execution_count": 6,
   "metadata": {},
   "outputs": [
    {
     "name": "stdout",
     "output_type": "stream",
     "text": [
      "514579\n"
     ]
    }
   ],
   "source": [
    "t1 = [1721,979,366,299,675,1456]\n",
    "print(find2020(t1))"
   ]
  },
  {
   "cell_type": "code",
   "execution_count": 7,
   "metadata": {},
   "outputs": [
    {
     "data": {
      "text/plain": [
       "806656"
      ]
     },
     "execution_count": 7,
     "metadata": {},
     "output_type": "execute_result"
    }
   ],
   "source": [
    "find2020(nums)"
   ]
  },
  {
   "cell_type": "code",
   "execution_count": 13,
   "metadata": {},
   "outputs": [],
   "source": [
    "#part 2\n",
    "def find3(nums, target):\n",
    "    nums.sort()\n",
    "    for i,x in enumerate(nums):\n",
    "        for y in nums[i+1:]:\n",
    "            for z in nums[i+2:]:\n",
    "#                 print(f'{x} {y} {z} {x+y+z}')\n",
    "                if x+y+z==target:\n",
    "                    return x*y*z\n",
    "                elif x+y+z>target:\n",
    "                    break\n",
    "    return -1"
   ]
  },
  {
   "cell_type": "code",
   "execution_count": 14,
   "metadata": {},
   "outputs": [
    {
     "data": {
      "text/plain": [
       "230608320"
      ]
     },
     "execution_count": 14,
     "metadata": {},
     "output_type": "execute_result"
    }
   ],
   "source": [
    "find3(nums,2020)"
   ]
  }
 ],
 "metadata": {
  "kernelspec": {
   "display_name": "Python 3",
   "language": "python",
   "name": "python3"
  },
  "language_info": {
   "codemirror_mode": {
    "name": "ipython",
    "version": 3
   },
   "file_extension": ".py",
   "mimetype": "text/x-python",
   "name": "python",
   "nbconvert_exporter": "python",
   "pygments_lexer": "ipython3",
   "version": "3.8.1"
  }
 },
 "nbformat": 4,
 "nbformat_minor": 4
}
