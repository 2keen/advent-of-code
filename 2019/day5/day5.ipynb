{
 "cells": [
  {
   "cell_type": "code",
   "execution_count": 1,
   "metadata": {},
   "outputs": [
    {
     "name": "stdout",
     "output_type": "stream",
     "text": [
      "[3, 225, 1, 225, 6, 6, 1100, 1, 238, 225, 104, 0, 1102, 57, 23, 224, 101, -1311, 224, 224, 4, 224, 1002, 223, 8, 223, 101, 6, 224, 224, 1, 223, 224, 223, 1102, 57, 67, 225, 102, 67, 150, 224, 1001, 224, -2613, 224, 4, 224, 1002, 223, 8, 223, 101, 5, 224, 224, 1, 224, 223, 223, 2, 179, 213, 224, 1001, 224, -469, 224, 4, 224, 102, 8, 223, 223, 101, 7, 224, 224, 1, 223, 224, 223, 1001, 188, 27, 224, 101, -119, 224, 224, 4, 224, 1002, 223, 8, 223, 1001, 224, 7, 224, 1, 223, 224, 223, 1, 184, 218, 224, 1001, 224, -155, 224, 4, 224, 1002, 223, 8, 223, 1001, 224, 7, 224, 1, 224, 223, 223, 1101, 21, 80, 224, 1001, 224, -101, 224, 4, 224, 102, 8, 223, 223, 1001, 224, 1, 224, 1, 224, 223, 223, 1101, 67, 39, 225, 1101, 89, 68, 225, 101, 69, 35, 224, 1001, 224, -126, 224, 4, 224, 1002, 223, 8, 223, 1001, 224, 1, 224, 1, 224, 223, 223, 1102, 7, 52, 225, 1102, 18, 90, 225, 1101, 65, 92, 225, 1002, 153, 78, 224, 101, -6942, 224, 224, 4, 224, 102, 8, 223, 223, 101, 6, 224, 224, 1, 223, 224, 223, 1101, 67, 83, 225, 1102, 31, 65, 225, 4, 223, 99, 0, 0, 0, 677, 0, 0, 0, 0, 0, 0, 0, 0, 0, 0, 0, 1105, 0, 99999, 1105, 227, 247, 1105, 1, 99999, 1005, 227, 99999, 1005, 0, 256, 1105, 1, 99999, 1106, 227, 99999, 1106, 0, 265, 1105, 1, 99999, 1006, 0, 99999, 1006, 227, 274, 1105, 1, 99999, 1105, 1, 280, 1105, 1, 99999, 1, 225, 225, 225, 1101, 294, 0, 0, 105, 1, 0, 1105, 1, 99999, 1106, 0, 300, 1105, 1, 99999, 1, 225, 225, 225, 1101, 314, 0, 0, 106, 0, 0, 1105, 1, 99999, 1007, 226, 226, 224, 102, 2, 223, 223, 1005, 224, 329, 1001, 223, 1, 223, 108, 677, 226, 224, 1002, 223, 2, 223, 1005, 224, 344, 1001, 223, 1, 223, 1007, 677, 677, 224, 1002, 223, 2, 223, 1005, 224, 359, 1001, 223, 1, 223, 1107, 677, 226, 224, 102, 2, 223, 223, 1006, 224, 374, 1001, 223, 1, 223, 8, 226, 677, 224, 1002, 223, 2, 223, 1006, 224, 389, 101, 1, 223, 223, 8, 677, 677, 224, 102, 2, 223, 223, 1006, 224, 404, 1001, 223, 1, 223, 1008, 226, 226, 224, 102, 2, 223, 223, 1006, 224, 419, 1001, 223, 1, 223, 107, 677, 226, 224, 102, 2, 223, 223, 1006, 224, 434, 101, 1, 223, 223, 7, 226, 226, 224, 1002, 223, 2, 223, 1005, 224, 449, 1001, 223, 1, 223, 1107, 226, 226, 224, 1002, 223, 2, 223, 1006, 224, 464, 1001, 223, 1, 223, 1107, 226, 677, 224, 1002, 223, 2, 223, 1005, 224, 479, 1001, 223, 1, 223, 8, 677, 226, 224, 1002, 223, 2, 223, 1006, 224, 494, 1001, 223, 1, 223, 1108, 226, 677, 224, 1002, 223, 2, 223, 1006, 224, 509, 101, 1, 223, 223, 1008, 677, 677, 224, 1002, 223, 2, 223, 1006, 224, 524, 1001, 223, 1, 223, 1008, 677, 226, 224, 102, 2, 223, 223, 1006, 224, 539, 1001, 223, 1, 223, 1108, 677, 677, 224, 102, 2, 223, 223, 1005, 224, 554, 101, 1, 223, 223, 108, 677, 677, 224, 102, 2, 223, 223, 1006, 224, 569, 101, 1, 223, 223, 1108, 677, 226, 224, 102, 2, 223, 223, 1005, 224, 584, 1001, 223, 1, 223, 108, 226, 226, 224, 1002, 223, 2, 223, 1005, 224, 599, 1001, 223, 1, 223, 1007, 226, 677, 224, 102, 2, 223, 223, 1005, 224, 614, 1001, 223, 1, 223, 7, 226, 677, 224, 102, 2, 223, 223, 1006, 224, 629, 1001, 223, 1, 223, 107, 226, 226, 224, 102, 2, 223, 223, 1005, 224, 644, 101, 1, 223, 223, 7, 677, 226, 224, 102, 2, 223, 223, 1005, 224, 659, 101, 1, 223, 223, 107, 677, 677, 224, 1002, 223, 2, 223, 1005, 224, 674, 1001, 223, 1, 223, 4, 223, 99, 226]\n"
     ]
    }
   ],
   "source": [
    "with open('input.txt') as f:\n",
    "    text = f.read().split(',')\n",
    "for i,n in enumerate(text):\n",
    "    text[i] = int(n)\n",
    "print(text)"
   ]
  },
  {
   "cell_type": "code",
   "execution_count": 3,
   "metadata": {},
   "outputs": [],
   "source": [
    "def intcode(intcode):\n",
    "    list_iter = enumerate(intcode)\n",
    "    for i,n in list_iter:\n",
    "        if n==99:\n",
    "#             print('done')\n",
    "            break\n",
    "        elif n==1:\n",
    "            intcode[intcode[i+3]] = intcode[intcode[i+1]] + intcode[intcode[i+2]]            \n",
    "            next(list_iter)\n",
    "            next(list_iter)\n",
    "            next(list_iter)\n",
    "        elif n==2:\n",
    "            intcode[intcode[i+3]] = intcode[intcode[i+1]] * intcode[intcode[i+2]]  \n",
    "            next(list_iter)\n",
    "            next(list_iter)\n",
    "            next(list_iter)\n",
    "        elif n==3:\n",
    "            \n",
    "        elif n==4:\n",
    "            \n",
    "        else:\n",
    "            print(f'parser error at position {i}, number={n}')\n",
    "            break\n",
    "    \n",
    "    return intcode"
   ]
  },
  {
   "cell_type": "code",
   "execution_count": 2,
   "metadata": {},
   "outputs": [
    {
     "name": "stdout",
     "output_type": "stream",
     "text": [
      "done\n",
      "[3500, 9, 10, 70, 2, 3, 11, 0, 99, 30, 40, 50]\n",
      "done\n",
      "[2, 0, 0, 0, 99]\n",
      "done\n",
      "[2, 3, 0, 6, 99]\n",
      "done\n",
      "[2, 4, 4, 5, 99, 9801]\n",
      "done\n",
      "[30, 1, 1, 4, 2, 5, 6, 0, 99]\n"
     ]
    }
   ],
   "source": [
    "#test cases\n",
    "test1 = []\n",
    "test2 = []\n",
    "print(intcode([test1))\n"
   ]
  },
  {
   "cell_type": "code",
   "execution_count": 8,
   "metadata": {},
   "outputs": [],
   "source": [
    "text[1] = 12\n",
    "text[2] = 2\n"
   ]
  },
  {
   "cell_type": "code",
   "execution_count": 9,
   "metadata": {},
   "outputs": [
    {
     "name": "stdout",
     "output_type": "stream",
     "text": [
      "[3716293, 12, 2, 2, 1, 1, 2, 3, 1, 3, 4, 3, 1, 5, 0, 3, 2, 10, 1, 48, 2, 19, 6, 96, 2, 13, 23, 480, 1, 9, 27, 483, 2, 31, 9, 1449, 1, 6, 35, 1451, 2, 10, 39, 5804, 1, 5, 43, 5805, 1, 5, 47, 5806, 2, 51, 6, 11612, 2, 10, 55, 46448, 1, 59, 9, 46451, 2, 13, 63, 232255, 1, 10, 67, 232259, 1, 71, 5, 232260, 1, 75, 6, 232262, 1, 10, 79, 232266, 1, 5, 83, 232267, 1, 5, 87, 232268, 2, 91, 6, 464536, 2, 6, 95, 929072, 2, 10, 99, 3716288, 1, 103, 5, 3716289, 1, 2, 107, 3716291, 1, 6, 111, 0, 99, 2, 14, 0, 0]\n"
     ]
    }
   ],
   "source": [
    "pa1202 = intcode(text)\n",
    "print(pa1202)"
   ]
  },
  {
   "cell_type": "code",
   "execution_count": null,
   "metadata": {},
   "outputs": [],
   "source": []
  },
  {
   "cell_type": "code",
   "execution_count": null,
   "metadata": {},
   "outputs": [],
   "source": [
    "#part 2\n",
    "target = 19690720"
   ]
  },
  {
   "cell_type": "code",
   "execution_count": 11,
   "metadata": {},
   "outputs": [],
   "source": [
    "def getInput():\n",
    "    with open('input.txt') as f:\n",
    "        text = f.read().split(',')\n",
    "    for i,n in enumerate(text):\n",
    "        text[i] = int(n)\n",
    "    return text"
   ]
  },
  {
   "cell_type": "code",
   "execution_count": 14,
   "metadata": {},
   "outputs": [
    {
     "name": "stdout",
     "output_type": "stream",
     "text": [
      "[1, 0, 0, 3, 1, 1, 2, 3, 1, 3, 4, 3, 1, 5, 0, 3, 2, 10, 1, 19, 2, 19, 6, 23, 2, 13, 23, 27, 1, 9, 27, 31, 2, 31, 9, 35, 1, 6, 35, 39, 2, 10, 39, 43, 1, 5, 43, 47, 1, 5, 47, 51, 2, 51, 6, 55, 2, 10, 55, 59, 1, 59, 9, 63, 2, 13, 63, 67, 1, 10, 67, 71, 1, 71, 5, 75, 1, 75, 6, 79, 1, 10, 79, 83, 1, 5, 83, 87, 1, 5, 87, 91, 2, 91, 6, 95, 2, 6, 95, 99, 2, 10, 99, 103, 1, 103, 5, 107, 1, 2, 107, 111, 1, 6, 111, 0, 99, 2, 14, 0, 0]\n",
      "parser error at position 0, number=0\n",
      "[0, 0, 0, 3, 1, 1, 2, 3, 1, 3, 4, 3, 1, 5, 0, 3, 2, 10, 1, 19, 2, 19, 6, 23, 2, 13, 23, 27, 1, 9, 27, 31, 2, 31, 9, 35, 1, 6, 35, 39, 2, 10, 39, 43, 1, 5, 43, 47, 1, 5, 47, 51, 2, 51, 6, 55, 2, 10, 55, 59, 1, 59, 9, 63, 2, 13, 63, 67, 1, 10, 67, 71, 1, 71, 5, 75, 1, 75, 6, 79, 1, 10, 79, 83, 1, 5, 83, 87, 1, 5, 87, 91, 2, 91, 6, 95, 2, 6, 95, 99, 2, 10, 99, 103, 1, 103, 5, 107, 1, 2, 107, 111, 1, 6, 111, 0, 99, 2, 14, 0, 0]\n"
     ]
    }
   ],
   "source": [
    "noun = 0\n",
    "verb = 0\n",
    "initial = getInput()\n",
    "print(initial)\n",
    "initial[1] = noun\n",
    "initial[2] = verb\n",
    "final = intcode(initial)\n",
    "print(final)"
   ]
  },
  {
   "cell_type": "code",
   "execution_count": 20,
   "metadata": {},
   "outputs": [
    {
     "name": "stdout",
     "output_type": "stream",
     "text": [
      "3716293\n"
     ]
    }
   ],
   "source": [
    "noun = 12\n",
    "verb = 2\n",
    "initial = getInput()\n",
    "initial[1] = noun\n",
    "initial[2] = verb\n",
    "print(intcode(initial)[0])"
   ]
  },
  {
   "cell_type": "code",
   "execution_count": 40,
   "metadata": {},
   "outputs": [
    {
     "data": {
      "text/plain": [
       "1202"
      ]
     },
     "execution_count": 40,
     "metadata": {},
     "output_type": "execute_result"
    }
   ],
   "source": [
    "100*12+2"
   ]
  },
  {
   "cell_type": "code",
   "execution_count": 46,
   "metadata": {},
   "outputs": [
    {
     "name": "stdout",
     "output_type": "stream",
     "text": [
      "noun: 0 \tanswer: 29891\r",
      "noun: 1 \tanswer: 337091\r",
      "noun: 2 \tanswer: 644291\r",
      "noun: 3 \tanswer: 951491\r",
      "noun: 4 \tanswer: 1258691\r",
      "noun: 5 \tanswer: 1565891\r",
      "noun: 6 \tanswer: 1873091\r",
      "noun: 7 \tanswer: 2180291\r",
      "noun: 8 \tanswer: 2487491\r",
      "noun: 9 \tanswer: 2794691\r",
      "noun: 10 \tanswer: 3101891\r",
      "noun: 11 \tanswer: 3409091\r",
      "noun: 12 \tanswer: 3716291\r",
      "noun: 13 \tanswer: 4023491\r",
      "noun: 14 \tanswer: 4330691\r",
      "noun: 15 \tanswer: 4637891\r",
      "noun: 16 \tanswer: 4945091\r",
      "noun: 17 \tanswer: 5252291\r",
      "noun: 18 \tanswer: 5559491\r",
      "noun: 19 \tanswer: 5866691\r",
      "noun: 20 \tanswer: 6173891\r",
      "noun: 21 \tanswer: 6481091\r",
      "noun: 22 \tanswer: 6788291\r",
      "noun: 23 \tanswer: 7095491\r",
      "noun: 24 \tanswer: 7402691\r",
      "noun: 25 \tanswer: 7709891\r",
      "noun: 26 \tanswer: 8017091\r",
      "noun: 27 \tanswer: 8324291\r",
      "noun: 28 \tanswer: 8631491\r",
      "noun: 29 \tanswer: 8938691\r",
      "noun: 30 \tanswer: 9245891\r",
      "noun: 31 \tanswer: 9553091\r",
      "noun: 32 \tanswer: 9860291\r",
      "noun: 33 \tanswer: 10167491\r",
      "noun: 34 \tanswer: 10474691\r",
      "noun: 35 \tanswer: 10781891\r",
      "noun: 36 \tanswer: 11089091\r",
      "noun: 37 \tanswer: 11396291\r",
      "noun: 38 \tanswer: 11703491\r",
      "noun: 39 \tanswer: 12010691\r",
      "noun: 40 \tanswer: 12317891\r",
      "noun: 41 \tanswer: 12625091\r",
      "noun: 42 \tanswer: 12932291\r",
      "noun: 43 \tanswer: 13239491\r",
      "noun: 44 \tanswer: 13546691\r",
      "noun: 45 \tanswer: 13853891\r",
      "noun: 46 \tanswer: 14161091\r",
      "noun: 47 \tanswer: 14468291\r",
      "noun: 48 \tanswer: 14775491\r",
      "noun: 49 \tanswer: 15082691\r",
      "noun: 50 \tanswer: 15389891\r",
      "noun: 51 \tanswer: 15697091\r",
      "noun: 52 \tanswer: 16004291\r",
      "noun: 53 \tanswer: 16311491\r",
      "noun: 54 \tanswer: 16618691\r",
      "noun: 55 \tanswer: 16925891\r",
      "noun: 56 \tanswer: 17233091\r",
      "noun: 57 \tanswer: 17540291\r",
      "noun: 58 \tanswer: 17847491\r",
      "noun: 59 \tanswer: 18154691\r",
      "noun: 60 \tanswer: 18461891\r",
      "noun: 61 \tanswer: 18769091\r",
      "noun: 62 \tanswer: 19076291\r",
      "noun: 63 \tanswer: 19383491\r",
      "noun: 64 \tanswer: 19690691\r",
      "noun: 65 \tanswer: 19997891\r\n",
      "noun: 64\n",
      "\tverb: 0 \tanswer:19690691\r",
      "\tverb: 1 \tanswer:19690692\r",
      "\tverb: 2 \tanswer:19690693\r",
      "\tverb: 3 \tanswer:19690694\r",
      "\tverb: 4 \tanswer:19690695\r",
      "\tverb: 5 \tanswer:19690696\r",
      "\tverb: 6 \tanswer:19690697\r",
      "\tverb: 7 \tanswer:19690698\r",
      "\tverb: 8 \tanswer:19690699\r",
      "\tverb: 9 \tanswer:19690700\r",
      "\tverb: 10 \tanswer:19690701\r",
      "\tverb: 11 \tanswer:19690702\r",
      "\tverb: 12 \tanswer:19690703\r",
      "\tverb: 13 \tanswer:19690704\r",
      "\tverb: 14 \tanswer:19690705\r",
      "\tverb: 15 \tanswer:19690706\r",
      "\tverb: 16 \tanswer:19690707\r",
      "\tverb: 17 \tanswer:19690708\r",
      "\tverb: 18 \tanswer:19690709\r",
      "\tverb: 19 \tanswer:19690710\r",
      "\tverb: 20 \tanswer:19690711\r",
      "\tverb: 21 \tanswer:19690712\r",
      "\tverb: 22 \tanswer:19690713\r",
      "\tverb: 23 \tanswer:19690714\r",
      "\tverb: 24 \tanswer:19690715\r",
      "\tverb: 25 \tanswer:19690716\r",
      "\tverb: 26 \tanswer:19690717\r",
      "\tverb: 27 \tanswer:19690718\r",
      "\tverb: 28 \tanswer:19690719\r",
      "\tverb: 29 \tanswer:19690720\r\n",
      "answer!\n",
      "100 * noun + verb = 6429\n"
     ]
    }
   ],
   "source": [
    "def func():\n",
    "    noun = 0\n",
    "    while noun < 99:\n",
    "        verb = 0\n",
    "        initial = getInput()\n",
    "        initial[1] = noun\n",
    "        initial[2] = verb\n",
    "        ans = intcode(initial)[0]\n",
    "        print(f'noun: {noun} \\tanswer: {ans}',end='\\r')\n",
    "        if ans > 19690720:\n",
    "            print()\n",
    "            noun -= 1\n",
    "            print(f'noun: {noun}')\n",
    "            while verb < 99:\n",
    "                initial = getInput()\n",
    "                initial[1] = noun\n",
    "                initial[2] = verb\n",
    "                ans = intcode(initial)[0]\n",
    "\n",
    "                print(f'\\tverb: {verb} \\tanswer:{ans}',end='\\r')\n",
    "                if ans == 19690720:\n",
    "                    print()\n",
    "                    print('answer!')\n",
    "                    print(f'100 * noun + verb = {(100*noun)+verb}')\n",
    "                    return\n",
    "                verb += 1\n",
    "        else:\n",
    "            noun += 1\n",
    "\n",
    "func()"
   ]
  }
 ],
 "metadata": {
  "kernelspec": {
   "display_name": "venv",
   "language": "python",
   "name": "venv"
  },
  "language_info": {
   "codemirror_mode": {
    "name": "ipython",
    "version": 3
   },
   "file_extension": ".py",
   "mimetype": "text/x-python",
   "name": "python",
   "nbconvert_exporter": "python",
   "pygments_lexer": "ipython3",
   "version": "3.8.1"
  }
 },
 "nbformat": 4,
 "nbformat_minor": 4
}
