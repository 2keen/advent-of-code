{
 "cells": [
  {
   "cell_type": "code",
   "execution_count": null,
   "metadata": {},
   "outputs": [],
   "source": []
  },
  {
   "cell_type": "code",
   "execution_count": 1,
   "metadata": {},
   "outputs": [],
   "source": [
    "\n"
   ]
  },
  {
   "cell_type": "code",
   "execution_count": 24,
   "metadata": {},
   "outputs": [],
   "source": [
    "def getPath(instructions):\n",
    "    pos = [0,0]\n",
    "    path = []\n",
    "    for ins in instructions:\n",
    "        for i in range(int(ins[1:])):\n",
    "            if ins[0]=='R':\n",
    "                pos[1]+=1\n",
    "                path.append(tuple(pos))\n",
    "            elif ins[0]=='L':\n",
    "                pos[1]-=1\n",
    "                path.append(tuple(pos))\n",
    "            elif ins[0]=='U':\n",
    "                pos[0]+=1\n",
    "                path.append(tuple(pos))\n",
    "            elif ins[0]=='D':\n",
    "                pos[0]-=1\n",
    "                path.append(tuple(pos))\n",
    "    return path"
   ]
  },
  {
   "cell_type": "code",
   "execution_count": 106,
   "metadata": {},
   "outputs": [],
   "source": [
    "def findCross(ins1,ins2):\n",
    "    print('plotting path 1')\n",
    "    path1 = getPath(ins1)\n",
    "    print(f'length: {len(path1)}')\n",
    "    print('plotting path 2')\n",
    "    path2 = getPath(ins2)\n",
    "    print(f'length: {len(path2)}')\n",
    "    print('getting intersections')\n",
    "    intersections = list(set(path1) & set(path2))\n",
    "    shortest = min(abs(v[0])+abs(v[1]) for v in intersections)\n",
    "    wirelengths=[]\n",
    "    for p in intersections:\n",
    "        d1,d2=0,0\n",
    "        for x in path1:\n",
    "            d1+=1\n",
    "            if x==p:break\n",
    "        for x in path2:\n",
    "            d2+=1\n",
    "            if x==p: break\n",
    "        wirelengths.append(d1+d2)\n",
    "\n",
    "    return intersections,shortest,min(wirelengths)"
   ]
  },
  {
   "cell_type": "code",
   "execution_count": 107,
   "metadata": {},
   "outputs": [
    {
     "name": "stdout",
     "output_type": "stream",
     "text": [
      "plotting path 1\n",
      "length: 21\n",
      "plotting path 2\n",
      "length: 21\n",
      "getting intersections\n"
     ]
    },
    {
     "data": {
      "text/plain": [
       "([(3, 3), (5, 6)], 6, 30)"
      ]
     },
     "execution_count": 107,
     "metadata": {},
     "output_type": "execute_result"
    }
   ],
   "source": [
    "a1 = ['R8','U5','L5','D3']\n",
    "a2 = ['U7','R6','D4','L4']\n",
    "findCross(a1,a2)"
   ]
  },
  {
   "cell_type": "code",
   "execution_count": 90,
   "metadata": {},
   "outputs": [
    {
     "name": "stdout",
     "output_type": "stream",
     "text": [
      "plotting path 1\n",
      "length: 482\n",
      "plotting path 2\n",
      "length: 484\n",
      "getting intersections\n",
      "([(11, 155), (-12, 158), (46, 146), (4, 155)], 159)\n",
      "plotting path 1\n",
      "length: 573\n",
      "plotting path 2\n",
      "length: 367\n",
      "getting intersections\n",
      "([(71, 107), (47, 107), (18, 157), (51, 107), (11, 124)], 135)\n",
      "plotting path 1\n",
      "length: 573\n",
      "plotting path 2\n",
      "length: 367\n",
      "getting intersections\n",
      "135\n"
     ]
    }
   ],
   "source": [
    "b1 = 'R75,D30,R83,U83,L12,D49,R71,U7,L72'.split(',')\n",
    "b2 = 'U62,R66,U55,R34,D71,R55,D58,R83'.split(',')\n",
    "print(findCross(b1,b2))\n",
    "#= distance 159\n",
    "\n",
    "c1 =  'R98,U47,R26,D63,R33,U87,L62,D20,R33,U53,R51'.split(',')\n",
    "c2 =  'U98,R91,D20,R16,D67,R40,U7,R15,U6,R7'.split(',')\n",
    "print(findCross(c1,c2))\n",
    "print(findCross(c1,c2)[1])\n",
    "#= distance 135"
   ]
  },
  {
   "cell_type": "code",
   "execution_count": 92,
   "metadata": {},
   "outputs": [
    {
     "name": "stdout",
     "output_type": "stream",
     "text": [
      "plotting path 1\n",
      "length: 573\n",
      "plotting path 2\n",
      "length: 367\n",
      "getting intersections\n"
     ]
    },
    {
     "data": {
      "text/plain": [
       "([(71, 107), (47, 107), (18, 157), (51, 107), (11, 124)], 135)"
      ]
     },
     "execution_count": 92,
     "metadata": {},
     "output_type": "execute_result"
    }
   ],
   "source": [
    "findCross(c1,c2)"
   ]
  },
  {
   "cell_type": "code",
   "execution_count": 93,
   "metadata": {},
   "outputs": [],
   "source": [
    "with open('input.txt') as f:\n",
    "    text = f.read()\n",
    "p1 = text.split('\\n')[0].split(',')\n",
    "p2 = text.split('\\n')[1].split(',')"
   ]
  },
  {
   "cell_type": "code",
   "execution_count": 108,
   "metadata": {},
   "outputs": [
    {
     "name": "stdout",
     "output_type": "stream",
     "text": [
      "plotting path 1\n",
      "length: 148303\n",
      "plotting path 2\n",
      "length: 157159\n",
      "getting intersections\n"
     ]
    },
    {
     "data": {
      "text/plain": [
       "([(592, 991),\n",
       "  (-3139, -3109),\n",
       "  (-314, 1197),\n",
       "  (-433, -783),\n",
       "  (210, -994),\n",
       "  (-2959, -2523),\n",
       "  (-1582, -2208),\n",
       "  (712, 531),\n",
       "  (-1811, -2208),\n",
       "  (-15, 1197),\n",
       "  (889, 752),\n",
       "  (41, 991),\n",
       "  (-2011, -2355),\n",
       "  (-4440, -3363),\n",
       "  (-314, 1617),\n",
       "  (-1036, -277),\n",
       "  (-1523, -2208),\n",
       "  (-2011, -2511),\n",
       "  (-1728, -2208),\n",
       "  (-1012, -1690),\n",
       "  (592, 855),\n",
       "  (-1012, -2157),\n",
       "  (-1036, -290),\n",
       "  (-3077, -2538),\n",
       "  (274, -722),\n",
       "  (-582, 529),\n",
       "  (-3937, -3363),\n",
       "  (41, 855),\n",
       "  (-3077, -2618),\n",
       "  (-1012, -2167),\n",
       "  (-1036, -596),\n",
       "  (-197, 1435),\n",
       "  (-2820, -2523)],\n",
       " 896,\n",
       " 16524)"
      ]
     },
     "execution_count": 108,
     "metadata": {},
     "output_type": "execute_result"
    }
   ],
   "source": [
    "findCross(p1,p2)"
   ]
  },
  {
   "cell_type": "code",
   "execution_count": 105,
   "metadata": {},
   "outputs": [
    {
     "data": {
      "text/plain": [
       "0"
      ]
     },
     "execution_count": 105,
     "metadata": {},
     "output_type": "execute_result"
    }
   ],
   "source": [
    "#part 2\n",
    "d1,d2=0,0\n",
    "d1"
   ]
  },
  {
   "cell_type": "code",
   "execution_count": 101,
   "metadata": {},
   "outputs": [
    {
     "name": "stdout",
     "output_type": "stream",
     "text": [
      "plotting path 1\n",
      "length: 21\n",
      "plotting path 2\n",
      "length: 21\n",
      "getting intersections\n",
      "(3, 3) 20 20\n",
      "(5, 6) 15 15\n"
     ]
    }
   ],
   "source": [
    "path1 = getPath(a1)\n",
    "path2 = getPath(a2)\n",
    "intersections, short = findCross(a1,a2)\n",
    "for p in intersections:\n",
    "    d1 = 0\n",
    "    for x in path1:\n",
    "        d1+=1\n",
    "        if x==p: break\n",
    "    d2 = 0\n",
    "    for x in path2:\n",
    "        d2+=1\n",
    "        if x==p: break\n",
    "    print(p,d1,d2)"
   ]
  }
 ],
 "metadata": {
  "kernelspec": {
   "display_name": "venv",
   "language": "python",
   "name": "venv"
  },
  "language_info": {
   "codemirror_mode": {
    "name": "ipython",
    "version": 3
   },
   "file_extension": ".py",
   "mimetype": "text/x-python",
   "name": "python",
   "nbconvert_exporter": "python",
   "pygments_lexer": "ipython3",
   "version": "3.8.1"
  }
 },
 "nbformat": 4,
 "nbformat_minor": 4
}
