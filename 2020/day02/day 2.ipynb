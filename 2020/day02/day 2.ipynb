{
 "cells": [
  {
   "cell_type": "code",
   "execution_count": 93,
   "metadata": {},
   "outputs": [],
   "source": [
    "with open('input.txt') as f:\n",
    "    pwdlist = f.readlines()"
   ]
  },
  {
   "cell_type": "code",
   "execution_count": 38,
   "metadata": {},
   "outputs": [],
   "source": [
    "def pwdCheck(db):\n",
    "    correct = 0\n",
    "    for p in db:\n",
    "        ct, l, pwd = p.split(' ')\n",
    "        ct = [int(x) for x in ct.split('-')]\n",
    "#         print(f'{pwd.count(l[0])} {l[0]} in {pwd}: {pwd.count(l[0]) >= ct[0] and pwd.count(l[0]) <= ct[1]}')\n",
    "        if pwd.count(l[0]) >= ct[0] and pwd.count(l[0]) <= ct[1]:\n",
    "            correct += 1\n",
    "    return correct"
   ]
  },
  {
   "cell_type": "code",
   "execution_count": 91,
   "metadata": {},
   "outputs": [
    {
     "data": {
      "text/plain": [
       "493"
      ]
     },
     "execution_count": 91,
     "metadata": {},
     "output_type": "execute_result"
    }
   ],
   "source": [
    "pwdCheck(pwdlist)"
   ]
  },
  {
   "cell_type": "code",
   "execution_count": 88,
   "metadata": {},
   "outputs": [],
   "source": [
    "#part2\n",
    "def tcpCheck(db):\n",
    "    correct = 0\n",
    "    for p in db:\n",
    "        ct, l, pwd = p.split(' ')\n",
    "        l1,l2 = [int(x)-1 for x in ct.split('-')]\n",
    "#         print(ct, l1, l2, l[0], pwd[l1], pwd[l2])\n",
    "#         print(l[0]==pwd[l1],l[0]==pwd[l2])\n",
    "#         print((l[0]==pwd[l1])^(l[0]==pwd[l2]))\n",
    "        if (l[0]==pwd[l1])^(l[0]==pwd[l2]):\n",
    "            correct += 1\n",
    "    return correct\n",
    "        "
   ]
  },
  {
   "cell_type": "code",
   "execution_count": 92,
   "metadata": {},
   "outputs": [
    {
     "data": {
      "text/plain": [
       "593"
      ]
     },
     "execution_count": 92,
     "metadata": {},
     "output_type": "execute_result"
    }
   ],
   "source": [
    "tcpCheck(pwdlist)"
   ]
  }
 ],
 "metadata": {
  "kernelspec": {
   "display_name": "Python 3",
   "language": "python",
   "name": "python3"
  },
  "language_info": {
   "codemirror_mode": {
    "name": "ipython",
    "version": 3
   },
   "file_extension": ".py",
   "mimetype": "text/x-python",
   "name": "python",
   "nbconvert_exporter": "python",
   "pygments_lexer": "ipython3",
   "version": "3.8.1"
  }
 },
 "nbformat": 4,
 "nbformat_minor": 4
}
