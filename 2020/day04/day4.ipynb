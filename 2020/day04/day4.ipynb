{
 "cells": [
  {
   "cell_type": "code",
   "execution_count": 15,
   "metadata": {},
   "outputs": [],
   "source": [
    "import json"
   ]
  },
  {
   "cell_type": "code",
   "execution_count": 27,
   "metadata": {},
   "outputs": [],
   "source": [
    "with open('input.txt') as f:\n",
    "    ids = f.read()\n",
    "ids = ids.split('\\n\\n')"
   ]
  },
  {
   "cell_type": "code",
   "execution_count": null,
   "metadata": {},
   "outputs": [],
   "source": [
    "for i in ids:\n",
    "    i = i.replace('\\n',' ')\n",
    "    for a in i.split(' ')"
   ]
  },
  {
   "cell_type": "code",
   "execution_count": 217,
   "metadata": {},
   "outputs": [],
   "source": [
    "def parsePassport(info):\n",
    "    id = {}\n",
    "    for a in info.replace('\\n', ' ').split(' '):\n",
    "        id[a.split(':')[0]] = a.split(':')[1]\n",
    "\n",
    "    return id    "
   ]
  },
  {
   "cell_type": "code",
   "execution_count": 223,
   "metadata": {},
   "outputs": [],
   "source": [
    "def checkPassport(passport):\n",
    "    expected = ['byr','iyr','eyr','hgt','hcl','ecl','pid','cid']\n",
    "\n",
    "    for field in expected:\n",
    "        if field == 'cid': continue\n",
    "#         print(field,':',end=' ')\n",
    "        if field in passport.keys():\n",
    "#             print(f'pass: {passport[field]}')\n",
    "            pass\n",
    "        else:\n",
    "#             print(f'{field} key does not exist')\n",
    "            return False\n",
    "#         try:\n",
    "#             print(passport[field])\n",
    "#         except KeyError:\n",
    "#             print(f'{field} key does not exist')\n",
    "#             return False\n",
    "        \n",
    "    return True"
   ]
  },
  {
   "cell_type": "code",
   "execution_count": 221,
   "metadata": {},
   "outputs": [],
   "source": [
    "def validatePassport(passport):\n",
    "    if not checkPassport(passport): return False\n",
    "    for k,v in passport.items():\n",
    "#         print(k, v, ':',end=' ')\n",
    "        if k == 'cid':\n",
    "            pass\n",
    "        elif k == 'byr':\n",
    "            if len(v)!=4 or int(v) < 1920 or int(v) > 2002:\n",
    "#                 print(f'bad birthyear {v}')\n",
    "                return False\n",
    "        elif k == 'iyr':\n",
    "            if len(v)!=4 or int(v) < 2010 or int(v) > 2020:\n",
    "#                 print(f'bad issue year {v}')\n",
    "                return False\n",
    "        elif k == 'eyr':\n",
    "            if len(v)!=4 or int(v) < 2020 or int(v) > 2030:\n",
    "#                 print(f'bad exp year {v[1]}')\n",
    "                return False\n",
    "        elif k == 'pid':\n",
    "            if len(v) != 9:\n",
    "#                 print(f'bad pid {v}')\n",
    "                return False\n",
    "            else: \n",
    "                try:\n",
    "                    int(v)\n",
    "                except ValueError:\n",
    "#                     print(f'bad pid {v}')\n",
    "                    return False\n",
    "        elif k == 'hcl':\n",
    "            if v[0] == '#' and len(v) == 7:\n",
    "                for c in v[1:]:\n",
    "                    if c in 'abcdef0123456789':\n",
    "                        continue\n",
    "                    else:\n",
    "#                         print(f'bad character {c}')\n",
    "                        False\n",
    "            else:\n",
    "#                 print(f'bad hair color {v}')\n",
    "                return False\n",
    "        elif k == 'hgt':\n",
    "            if 'in' in v and len(v)==4:\n",
    "                if int(v[0:2]) < 59 and int(v[0:2]) > 76:\n",
    "#                     print(f'bad height: {v}')\n",
    "                    return False\n",
    "            elif 'cm' in v and len(v)==5:\n",
    "                if int(v[0:3]) < 150 or int(v[0:3]) >= 193:\n",
    "#                     print(f'bad height: {v}')\n",
    "                    return False\n",
    "            else:\n",
    "#                 print(f'bad height: {v}')\n",
    "                return False\n",
    "        elif k == 'ecl':\n",
    "            if v not in ['amb', 'blu', 'brn', 'gry', 'grn', 'hzl', 'oth']:\n",
    "#                 print(f'bad eye color {v[1]}')\n",
    "                return False\n",
    "\n",
    "    return True\n",
    "            "
   ]
  },
  {
   "cell_type": "code",
   "execution_count": 224,
   "metadata": {},
   "outputs": [
    {
     "name": "stdout",
     "output_type": "stream",
     "text": [
      "206 119\n"
     ]
    }
   ],
   "source": [
    "checkcount = 0\n",
    "validcount = 0\n",
    "for i in ids:\n",
    "    p = parsePassport(i)\n",
    "    if checkPassport(p):\n",
    "        checkcount += 1\n",
    "    if validatePassport(p):\n",
    "        validcount += 1\n",
    "        \n",
    "print(checkcount, validcount)"
   ]
  },
  {
   "cell_type": "code",
   "execution_count": null,
   "metadata": {},
   "outputs": [],
   "source": [
    "#119 too low"
   ]
  },
  {
   "cell_type": "code",
   "execution_count": null,
   "metadata": {},
   "outputs": [],
   "source": []
  },
  {
   "cell_type": "code",
   "execution_count": null,
   "metadata": {},
   "outputs": [],
   "source": []
  },
  {
   "cell_type": "code",
   "execution_count": null,
   "metadata": {},
   "outputs": [],
   "source": []
  },
  {
   "cell_type": "code",
   "execution_count": 57,
   "metadata": {},
   "outputs": [
    {
     "data": {
      "text/plain": [
       "['ecl:gry pid:860033327 eyr:2020 hcl:#fffffd\\nbyr:1937 iyr:2017 cid:147 hgt:183cm',\n",
       " 'iyr:2013 ecl:amb cid:350 eyr:2023 pid:028048884\\nhcl:#cfa07d byr:1929',\n",
       " 'hcl:#ae17e1 iyr:2013\\neyr:2024\\necl:brn pid:760753108 byr:1931\\nhgt:179cm',\n",
       " 'hcl:#cfa07d eyr:2025 pid:166559648\\niyr:2011 ecl:brn hgt:59in']"
      ]
     },
     "execution_count": 57,
     "metadata": {},
     "output_type": "execute_result"
    }
   ],
   "source": [
    "test = '''ecl:gry pid:860033327 eyr:2020 hcl:#fffffd\n",
    "byr:1937 iyr:2017 cid:147 hgt:183cm\n",
    "\n",
    "iyr:2013 ecl:amb cid:350 eyr:2023 pid:028048884\n",
    "hcl:#cfa07d byr:1929\n",
    "\n",
    "hcl:#ae17e1 iyr:2013\n",
    "eyr:2024\n",
    "ecl:brn pid:760753108 byr:1931\n",
    "hgt:179cm\n",
    "\n",
    "hcl:#cfa07d eyr:2025 pid:166559648\n",
    "iyr:2011 ecl:brn hgt:59in'''.split('\\n\\n')\n",
    "test"
   ]
  },
  {
   "cell_type": "code",
   "execution_count": 97,
   "metadata": {},
   "outputs": [
    {
     "data": {
      "text/plain": [
       "['eyr:1972 cid:100\\nhcl:#18171d ecl:amb hgt:170 pid:186cm iyr:2018 byr:1926',\n",
       " 'iyr:2019\\nhcl:#602927 eyr:1967 hgt:170cm\\necl:grn pid:012533040 byr:1946',\n",
       " 'hcl:dab227 iyr:2012\\necl:brn hgt:182cm pid:021572410 eyr:2020 byr:1992 cid:277',\n",
       " 'hgt:59cm ecl:zzz\\neyr:2038 hcl:74454a iyr:2023\\npid:3556412378 byr:2007']"
      ]
     },
     "execution_count": 97,
     "metadata": {},
     "output_type": "execute_result"
    }
   ],
   "source": [
    "failtests = '''eyr:1972 cid:100\n",
    "hcl:#18171d ecl:amb hgt:170 pid:186cm iyr:2018 byr:1926\n",
    "\n",
    "iyr:2019\n",
    "hcl:#602927 eyr:1967 hgt:170cm\n",
    "ecl:grn pid:012533040 byr:1946\n",
    "\n",
    "hcl:dab227 iyr:2012\n",
    "ecl:brn hgt:182cm pid:021572410 eyr:2020 byr:1992 cid:277\n",
    "\n",
    "hgt:59cm ecl:zzz\n",
    "eyr:2038 hcl:74454a iyr:2023\n",
    "pid:3556412378 byr:2007'''.split('\\n\\n')\n",
    "failtests"
   ]
  },
  {
   "cell_type": "code",
   "execution_count": null,
   "metadata": {},
   "outputs": [],
   "source": [
    "ppt = parsePassport(test[0])\n",
    "# print(ppt)\n",
    "# print(checkPassport(ppt))\n",
    "print(validatePassport(ppt))"
   ]
  },
  {
   "cell_type": "code",
   "execution_count": null,
   "metadata": {},
   "outputs": [],
   "source": [
    "ppt = parsePassport(failtests[1])\n",
    "# print(ppt)\n",
    "# print(checkPassport(ppt))\n",
    "print(validatePassport(ppt))"
   ]
  },
  {
   "cell_type": "code",
   "execution_count": null,
   "metadata": {},
   "outputs": [],
   "source": []
  }
 ],
 "metadata": {
  "kernelspec": {
   "display_name": "Python 3",
   "language": "python",
   "name": "python3"
  },
  "language_info": {
   "codemirror_mode": {
    "name": "ipython",
    "version": 3
   },
   "file_extension": ".py",
   "mimetype": "text/x-python",
   "name": "python",
   "nbconvert_exporter": "python",
   "pygments_lexer": "ipython3",
   "version": "3.8.1"
  }
 },
 "nbformat": 4,
 "nbformat_minor": 4
}
