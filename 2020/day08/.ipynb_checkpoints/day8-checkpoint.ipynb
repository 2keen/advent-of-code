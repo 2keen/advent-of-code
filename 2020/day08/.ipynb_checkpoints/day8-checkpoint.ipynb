{
 "cells": [
  {
   "cell_type": "code",
   "execution_count": 93,
   "metadata": {},
   "outputs": [],
   "source": [
    "import copy"
   ]
  },
  {
   "cell_type": "code",
   "execution_count": 7,
   "metadata": {},
   "outputs": [
    {
     "data": {
      "text/plain": [
       "[['acc', '+13'],\n",
       " ['jmp', '+412'],\n",
       " ['nop', '+137'],\n",
       " ['nop', '+144'],\n",
       " ['acc', '+33']]"
      ]
     },
     "execution_count": 7,
     "metadata": {},
     "output_type": "execute_result"
    }
   ],
   "source": [
    "with open('input.txt') as f:\n",
    "    text = f.read().split('\\n')\n",
    "\n",
    "for i,t in enumerate(text):\n",
    "    text[i] = t.split(' ')\n",
    "text[:5]"
   ]
  },
  {
   "cell_type": "code",
   "execution_count": 47,
   "metadata": {},
   "outputs": [],
   "source": [
    "test = [\n",
    "    ['nop', '+0'],\n",
    "    ['acc', '+1'],\n",
    "    ['jmp', '+4'],\n",
    "    ['acc', '+3'],\n",
    "    ['jmp', '-3'],\n",
    "    ['acc', '-99'],\n",
    "    ['acc', '+1'],\n",
    "    ['jmp', '-4'],\n",
    "    ['acc', '+6']\n",
    "]"
   ]
  },
  {
   "cell_type": "code",
   "execution_count": 74,
   "metadata": {},
   "outputs": [],
   "source": [
    "test2 = [\n",
    "    ['nop', '+0'],\n",
    "    ['acc', '+1'],\n",
    "    ['jmp', '+4'],\n",
    "    ['acc', '+3'],\n",
    "    ['jmp', '-3'],\n",
    "    ['acc', '-99'],\n",
    "    ['acc', '+1'],\n",
    "    ['nop', '-4'],\n",
    "    ['acc', '+6']\n",
    "]"
   ]
  },
  {
   "cell_type": "code",
   "execution_count": 70,
   "metadata": {},
   "outputs": [],
   "source": [
    "def checkInstructions(insset):\n",
    "    acc = 0\n",
    "    index = 0\n",
    "    checked = set()\n",
    "    while True:\n",
    "        if index >= len(insset):\n",
    "            index = 'complete'\n",
    "            break\n",
    "        if index in checked:\n",
    "            break\n",
    "\n",
    "        checked.add(index)\n",
    "        op = insset[index][0]\n",
    "        if op == 'acc':\n",
    "            acc+=int(insset[index][1])\n",
    "            index += 1\n",
    "        elif op == 'nop':\n",
    "            index += 1\n",
    "        elif op == 'jmp':\n",
    "            index+=int(insset[index][1])\n",
    "        else:\n",
    "            print('uncaught operation:', insset[index])\n",
    "            break\n",
    "    return index, acc "
   ]
  },
  {
   "cell_type": "code",
   "execution_count": 99,
   "metadata": {},
   "outputs": [],
   "source": [
    "def findError(insset):\n",
    "    count = 0\n",
    "    breaks = []\n",
    "    for i in range(len(insset)):\n",
    "        if insset[i][0] in ['nop','jmp']:\n",
    "            count+=1\n",
    "            breaks.append(i)\n",
    "    print(count, breaks)\n",
    "    for b in breaks:\n",
    "        print(b,end='')\n",
    "        tset = copy.deepcopy(insset)\n",
    "        if tset[b][0] == 'jmp':\n",
    "            tset[b][0] = 'nop'\n",
    "        elif tset[b][0] == 'nop':\n",
    "            tset[b][0] = 'jmp'\n",
    "        else:\n",
    "            print('fake break',b,insset[b])\n",
    "        chk = checkInstructions(tset)\n",
    "        print(chk)\n",
    "        if chk[0] == 'complete':\n",
    "            return chk\n",
    "            \n",
    "    \n",
    "    return count, b, breaks"
   ]
  },
  {
   "cell_type": "code",
   "execution_count": 63,
   "metadata": {},
   "outputs": [
    {
     "name": "stdout",
     "output_type": "stream",
     "text": [
      "last op: 1\n"
     ]
    },
    {
     "data": {
      "text/plain": [
       "(1, 5)"
      ]
     },
     "execution_count": 63,
     "metadata": {},
     "output_type": "execute_result"
    }
   ],
   "source": [
    "checkInstructions(test)"
   ]
  },
  {
   "cell_type": "code",
   "execution_count": 65,
   "metadata": {},
   "outputs": [
    {
     "data": {
      "text/plain": [
       "(350, 1475)"
      ]
     },
     "execution_count": 65,
     "metadata": {},
     "output_type": "execute_result"
    }
   ],
   "source": [
    "checkInstructions(text)"
   ]
  },
  {
   "cell_type": "code",
   "execution_count": 75,
   "metadata": {},
   "outputs": [
    {
     "data": {
      "text/plain": [
       "('complete', 8)"
      ]
     },
     "execution_count": 75,
     "metadata": {},
     "output_type": "execute_result"
    }
   ],
   "source": [
    "checkInstructions(test2)"
   ]
  },
  {
   "cell_type": "code",
   "execution_count": 97,
   "metadata": {},
   "outputs": [
    {
     "name": "stdout",
     "output_type": "stream",
     "text": [
      "4 [0, 2, 4, 7]\n",
      "0(0, 0)\n",
      "2(1, 4)\n",
      "4(6, -94)\n",
      "7('complete', 8)\n"
     ]
    },
    {
     "data": {
      "text/plain": [
       "('complete', 8)"
      ]
     },
     "execution_count": 97,
     "metadata": {},
     "output_type": "execute_result"
    }
   ],
   "source": [
    "findError(test)"
   ]
  },
  {
   "cell_type": "code",
   "execution_count": 100,
   "metadata": {},
   "outputs": [
    {
     "name": "stdout",
     "output_type": "stream",
     "text": [
      "291 [1, 2, 3, 6, 7, 9, 10, 11, 12, 15, 16, 17, 18, 20, 21, 25, 26, 27, 29, 30, 31, 32, 35, 36, 41, 44, 45, 46, 48, 49, 51, 53, 55, 57, 59, 60, 61, 62, 66, 67, 71, 72, 76, 78, 83, 85, 86, 90, 91, 93, 95, 99, 102, 104, 106, 107, 112, 115, 117, 119, 121, 123, 124, 125, 127, 132, 135, 136, 137, 138, 141, 142, 146, 148, 153, 155, 156, 157, 160, 163, 167, 170, 171, 172, 173, 175, 177, 182, 186, 188, 189, 190, 193, 195, 196, 201, 205, 207, 209, 210, 214, 217, 218, 219, 223, 224, 226, 229, 231, 233, 234, 237, 238, 239, 240, 242, 244, 246, 247, 248, 249, 253, 256, 259, 261, 263, 268, 269, 270, 274, 275, 276, 278, 279, 282, 286, 287, 288, 291, 293, 296, 298, 303, 306, 307, 310, 311, 314, 315, 316, 318, 320, 322, 323, 326, 328, 331, 333, 334, 335, 338, 343, 345, 346, 349, 352, 353, 354, 355, 357, 360, 363, 364, 365, 367, 368, 371, 372, 374, 375, 376, 377, 380, 381, 386, 387, 389, 390, 392, 395, 397, 400, 402, 405, 407, 410, 412, 415, 418, 423, 424, 425, 426, 431, 434, 437, 442, 443, 445, 447, 450, 452, 456, 457, 459, 460, 461, 464, 465, 468, 472, 473, 476, 478, 483, 486, 488, 493, 494, 495, 498, 499, 501, 503, 504, 508, 512, 513, 518, 520, 522, 523, 524, 529, 532, 533, 536, 538, 542, 544, 546, 548, 551, 552, 556, 557, 558, 559, 561, 562, 564, 568, 569, 570, 571, 575, 576, 578, 583, 587, 588, 590, 592, 593, 594, 597, 602, 604, 606, 607, 612, 613, 614, 616, 617, 622, 623, 624, 625, 629, 634]\n",
      "1(13, 1438)\n",
      "2(350, 1475)\n",
      "3(350, 1475)\n",
      "6(350, 1475)\n",
      "7(350, 1475)\n",
      "9(350, 1475)\n",
      "10(350, 1475)\n",
      "11(350, 1475)\n",
      "12(350, 1475)\n",
      "15(350, 790)\n",
      "16(350, 1475)\n",
      "17(350, 1014)\n",
      "18(350, 1475)\n",
      "20(350, 1475)\n",
      "21(350, 1475)\n",
      "25(350, 1475)\n",
      "26(350, 1475)\n",
      "27(350, 1475)\n",
      "29(350, 1475)\n",
      "30(350, 577)\n",
      "31(350, 1475)\n",
      "32(312, 1193)\n",
      "35(350, 1308)\n",
      "36(350, 1475)\n",
      "41(350, 1475)\n",
      "44(350, 1475)\n",
      "45(350, 1475)\n",
      "46(350, 1475)\n",
      "48(350, 1475)\n",
      "49(350, 1475)\n",
      "51(350, 562)\n",
      "53(350, 1475)\n",
      "55(350, 1475)\n",
      "57(350, 1475)\n",
      "59(350, 1475)\n",
      "60(350, 1475)\n",
      "61(350, 1475)\n",
      "62(350, 1475)\n",
      "66(350, 1475)\n",
      "67(350, 1475)\n",
      "71(13, 1469)\n",
      "72(350, 1475)\n",
      "76(350, 974)\n",
      "78(350, 1475)\n",
      "83(350, 967)\n",
      "85(350, 1475)\n",
      "86(403, 460)\n",
      "90(350, 1475)\n",
      "91(350, 302)\n",
      "93(350, 1475)\n",
      "95(350, 1475)\n",
      "99(413, 1540)\n",
      "102(350, 1475)\n",
      "104(350, 801)\n",
      "106(350, 819)\n",
      "107(350, 670)\n",
      "112(350, 1475)\n",
      "115(523, 1012)\n",
      "117(523, 1036)\n",
      "119(350, 1475)\n",
      "121(350, 1475)\n",
      "123(350, 1475)\n",
      "124(350, 1475)\n",
      "125(350, 1475)\n",
      "127(350, 1475)\n",
      "132(350, 1475)\n",
      "135(350, 1475)\n",
      "136(350, 1475)\n",
      "137(312, 531)\n",
      "138(350, 1475)\n",
      "141(350, 1475)\n",
      "142(350, 1475)\n",
      "146(350, 1475)\n",
      "148(91, 382)\n",
      "153(350, 1475)\n",
      "155(350, 1475)\n",
      "156(350, 1475)\n",
      "157(350, 1475)\n",
      "160(350, 1475)\n",
      "163(350, 650)\n",
      "167(350, 1475)\n",
      "170(243, 1308)\n",
      "171(350, 1475)\n",
      "172(350, 1475)\n",
      "173(350, 1475)\n",
      "175(307, 1504)\n",
      "177(350, 1475)\n",
      "182(413, 1018)\n",
      "186(350, 1475)\n",
      "188(350, 1475)\n",
      "189(350, 1475)\n",
      "190(350, 1475)\n",
      "193(350, 1475)\n",
      "195(350, 1475)\n",
      "196(350, 1475)\n",
      "201(350, 1475)\n",
      "205(350, 1475)\n",
      "207(350, 1475)\n",
      "209(350, 1323)\n",
      "210(350, 1475)\n",
      "214(350, 1475)\n",
      "217(350, 1475)\n",
      "218(350, 1475)\n",
      "219(607, 1521)\n",
      "223(350, 1475)\n",
      "224(350, 1475)\n",
      "226(225, 219)\n",
      "229(350, 1475)\n",
      "231(350, 1422)\n",
      "233(350, 1475)\n",
      "234(350, 1494)\n",
      "237(350, 1475)\n",
      "238(86, 1296)\n",
      "239(350, 1475)\n",
      "240(350, 1475)\n",
      "242(350, 1475)\n",
      "244(350, 1475)\n",
      "246('complete', 1270)\n"
     ]
    },
    {
     "data": {
      "text/plain": [
       "('complete', 1270)"
      ]
     },
     "execution_count": 100,
     "metadata": {},
     "output_type": "execute_result"
    }
   ],
   "source": [
    "findError(text)"
   ]
  }
 ],
 "metadata": {
  "kernelspec": {
   "display_name": "Python 3",
   "language": "python",
   "name": "python3"
  },
  "language_info": {
   "codemirror_mode": {
    "name": "ipython",
    "version": 3
   },
   "file_extension": ".py",
   "mimetype": "text/x-python",
   "name": "python",
   "nbconvert_exporter": "python",
   "pygments_lexer": "ipython3",
   "version": "3.8.1"
  }
 },
 "nbformat": 4,
 "nbformat_minor": 4
}
