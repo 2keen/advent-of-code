{
 "cells": [
  {
   "cell_type": "code",
   "execution_count": 106,
   "metadata": {},
   "outputs": [],
   "source": [
    "import pandas as pd\n",
    "import numpy as np\n",
    "import re"
   ]
  },
  {
   "cell_type": "code",
   "execution_count": 85,
   "metadata": {},
   "outputs": [
    {
     "name": "stdout",
     "output_type": "stream",
     "text": [
      "{'action': 'on', 'start': ['489', '959'], 'end': ['759', '964']}\n"
     ]
    }
   ],
   "source": [
    "with open('input.txt') as f:\n",
    "    instructions = f.readlines()\n",
    "\n",
    "\n",
    "parsed = []\n",
    "for i in instructions:\n",
    "    s = i[:-1].split(' ')\n",
    "    if s[0] == 'turn':\n",
    "        parsed.append({\n",
    "            'action': s[1],\n",
    "            'start':  s[2].split(','),\n",
    "            'end':    s[4].split(',')\n",
    "\n",
    "        })\n",
    "    else:\n",
    "        parsed.append({\n",
    "            'action': s[0],\n",
    "            'start':  s[1].split(','),\n",
    "            'end':    s[3].split(',')\n",
    "\n",
    "        })\n",
    "\n",
    "print(parsed[0])\n"
   ]
  },
  {
   "cell_type": "code",
   "execution_count": null,
   "metadata": {},
   "outputs": [],
   "source": []
  },
  {
   "cell_type": "code",
   "execution_count": 183,
   "metadata": {},
   "outputs": [],
   "source": [
    "def get_instructions(fpath):\n",
    "    with open(fpath) as f:\n",
    "        instructions = f.readlines()\n",
    "    return instructions"
   ]
  },
  {
   "cell_type": "code",
   "execution_count": 199,
   "metadata": {},
   "outputs": [],
   "source": [
    "def make_lights(rows,columns):\n",
    "    return pd.DataFrame(0,index=np.arange(rows),columns=np.arange(columns))"
   ]
  },
  {
   "cell_type": "code",
   "execution_count": 256,
   "metadata": {},
   "outputs": [],
   "source": [
    "def edit_lights(lights_df, instruction):\n",
    "    s = instruction[:-1].split(' ')\n",
    "    if s[0] == 'turn':\n",
    "        action = s[1]\n",
    "        start = s[2].split(',')\n",
    "        end = s[4].split(',')\n",
    "\n",
    "    else:\n",
    "        action = s[0]\n",
    "        start = s[1].split(',')\n",
    "        end = s[3].split(',')\n",
    "    start[0] = int(start[0])\n",
    "    start[1] = int(start[1])\n",
    "    end[0] = int(end[0])+1\n",
    "    end[1] = int(end[1])+1\n",
    "    if action == 'on':\n",
    "        lights_df.iloc[start[1]:end[1], start[0]:end[0]] = 1\n",
    "    elif action == 'off':\n",
    "        lights_df.iloc[start[1]:end[1], start[0]:end[0]] = 0\n",
    "    elif action == 'toggle':\n",
    "        lights_df.iloc[start[1]:end[1], start[0]:end[0]] = (lights_df.iloc[start[1]:end[1], start[0]:end[0]]+1)%2\n",
    "    else:\n",
    "        print('invalid instruction')\n",
    "\n"
   ]
  },
  {
   "cell_type": "code",
   "execution_count": 218,
   "metadata": {},
   "outputs": [],
   "source": [
    "def color_lights(lights_df,save_path):\n",
    "#     print('saving initial')\n",
    "    lights_df.to_html('lights.html')\n",
    "#     print('reading initial')\n",
    "    with open('lights.html') as h:\n",
    "        html = h.readlines()\n",
    "#     print('editing')\n",
    "    for i,line in enumerate(html):\n",
    "        m = re.search('(.*)(<td>)(.*)(</td>)(.*)',line)\n",
    "        if m is not None:\n",
    "            g = m.groups()\n",
    "            if g[2] == '0':\n",
    "                html[i] = g[0]+'<td style=\"background-color: #fff; color: #fff\">'+g[2]+g[3]\n",
    "            elif g[2] == '1':\n",
    "                html[i] = g[0]+'<td style=\"background-color: #000; color: #000\">'+g[2]+g[3]\n",
    "#     print('saving final')\n",
    "    with open(save_path, 'w+') as h:\n",
    "        h.writelines(html)\n",
    "#     print('done')"
   ]
  },
  {
   "cell_type": "code",
   "execution_count": 257,
   "metadata": {},
   "outputs": [
    {
     "name": "stdout",
     "output_type": "stream",
     "text": [
      "300 of 300 instructions\r"
     ]
    }
   ],
   "source": [
    "fpath = 'input.txt'\n",
    "instructions = get_instructions(fpath)\n",
    "lights = make_lights(1000,1000)\n",
    "for i,ins in enumerate(instructions):\n",
    "    print('{} of {} instructions'.format(i+1,len(instructions)), end='\\r')\n",
    "    edit_lights(lights, ins)\n",
    "#     color_lights(lights,'snapshots/lights{}.html'.format(i))\n",
    "    "
   ]
  },
  {
   "cell_type": "code",
   "execution_count": 260,
   "metadata": {},
   "outputs": [
    {
     "data": {
      "text/plain": [
       "574345"
      ]
     },
     "execution_count": 260,
     "metadata": {},
     "output_type": "execute_result"
    }
   ],
   "source": [
    "lights.sum().sum()\n"
   ]
  },
  {
   "cell_type": "code",
   "execution_count": null,
   "metadata": {},
   "outputs": [],
   "source": []
  },
  {
   "cell_type": "code",
   "execution_count": 262,
   "metadata": {},
   "outputs": [
    {
     "name": "stdout",
     "output_type": "stream",
     "text": [
      "1 of 3 instructions\n",
      "turn on 5,6 through 8,8\n",
      "\n",
      "   0  1  2  3  4  5  6  7  8  9\n",
      "0  0  0  0  0  0  0  0  0  0  0\n",
      "1  0  0  0  0  0  0  0  0  0  0\n",
      "2  0  0  0  0  0  0  0  0  0  0\n",
      "3  0  0  0  0  0  0  0  0  0  0\n",
      "4  0  0  0  0  0  0  0  0  0  0\n",
      "5  0  0  0  0  0  0  0  0  0  0\n",
      "6  0  0  0  0  0  1  1  1  1  0\n",
      "7  0  0  0  0  0  1  1  1  1  0\n",
      "8  0  0  0  0  0  1  1  1  1  0\n",
      "9  0  0  0  0  0  0  0  0  0  0\n",
      "2 of 3 instructions\n",
      "turn off 7,7 through 7,8\n",
      "\n",
      "   0  1  2  3  4  5  6  7  8  9\n",
      "0  0  0  0  0  0  0  0  0  0  0\n",
      "1  0  0  0  0  0  0  0  0  0  0\n",
      "2  0  0  0  0  0  0  0  0  0  0\n",
      "3  0  0  0  0  0  0  0  0  0  0\n",
      "4  0  0  0  0  0  0  0  0  0  0\n",
      "5  0  0  0  0  0  0  0  0  0  0\n",
      "6  0  0  0  0  0  1  1  1  1  0\n",
      "7  0  0  0  0  0  1  1  0  1  0\n",
      "8  0  0  0  0  0  1  1  0  1  0\n",
      "9  0  0  0  0  0  0  0  0  0  0\n",
      "3 of 3 instructions\n",
      "toggle 0,0 through 9,9\n",
      "\n",
      "   0  1  2  3  4  5  6  7  8  9\n",
      "0  1  1  1  1  1  1  1  1  1  1\n",
      "1  1  1  1  1  1  1  1  1  1  1\n",
      "2  1  1  1  1  1  1  1  1  1  1\n",
      "3  1  1  1  1  1  1  1  1  1  1\n",
      "4  1  1  1  1  1  1  1  1  1  1\n",
      "5  1  1  1  1  1  1  1  1  1  1\n",
      "6  1  1  1  1  1  0  0  0  0  1\n",
      "7  1  1  1  1  1  0  0  1  0  1\n",
      "8  1  1  1  1  1  0  0  1  0  1\n",
      "9  1  1  1  1  1  1  1  1  1  1\n"
     ]
    }
   ],
   "source": [
    "lights = make_lights(10,10)\n",
    "instructions = [\n",
    "    'turn on 5,6 through 8,8\\n',\n",
    "    'turn off 7,7 through 7,8\\n',\n",
    "    'toggle 0,0 through 9,9\\n'\n",
    "\n",
    "]\n",
    "for i,ins in enumerate(instructions):\n",
    "    print('{} of {} instructions'.format(i+1,len(instructions)))\n",
    "    print(ins)\n",
    "    edit_lights(lights, ins)\n",
    "#     color_lights(lights,'snapshots/lights{}.html'.format(i))\n",
    "    print(lights)\n"
   ]
  },
  {
   "cell_type": "code",
   "execution_count": null,
   "metadata": {},
   "outputs": [],
   "source": []
  },
  {
   "cell_type": "code",
   "execution_count": null,
   "metadata": {},
   "outputs": [],
   "source": []
  },
  {
   "cell_type": "code",
   "execution_count": null,
   "metadata": {},
   "outputs": [],
   "source": []
  }
 ],
 "metadata": {
  "kernelspec": {
   "display_name": "Python 3",
   "language": "python",
   "name": "python3"
  },
  "language_info": {
   "codemirror_mode": {
    "name": "ipython",
    "version": 3
   },
   "file_extension": ".py",
   "mimetype": "text/x-python",
   "name": "python",
   "nbconvert_exporter": "python",
   "pygments_lexer": "ipython3",
   "version": "3.8.1"
  }
 },
 "nbformat": 4,
 "nbformat_minor": 4
}
