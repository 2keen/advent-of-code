{
 "cells": [
  {
   "cell_type": "code",
   "execution_count": 1,
   "metadata": {},
   "outputs": [],
   "source": [
    "###ALL SOLUTIONS####"
   ]
  },
  {
   "cell_type": "code",
   "execution_count": 2,
   "metadata": {},
   "outputs": [],
   "source": [
    "from collections import defaultdict\n",
    "\n",
    "def getpuzzle(day):\n",
    "    return open(f'2018day{day}_input.txt','r').read().split('\\n')"
   ]
  },
  {
   "cell_type": "code",
   "execution_count": 3,
   "metadata": {},
   "outputs": [],
   "source": [
    "#DAY 1\n",
    "from collections import defaultdict\n",
    "\n",
    "def day1():\n",
    "    puzzle = getpuzzle(1)\n",
    "    changes = [int(x) for x in puzzle]\n",
    "#     print('part 1:',sum(changes))\n",
    "    s = sum(changes)\n",
    "    \n",
    "    freqs = [0]\n",
    "    modgroups = [0]\n",
    "    it = [0]\n",
    "    for c in changes:\n",
    "        freqs.append(freqs[-1]+c)\n",
    "        modgroups.append(freqs[-1]%sum(changes))\n",
    "    \n",
    "    #check for repeat in first iteration\n",
    "    fset = set()\n",
    "    for f in freqs:\n",
    "        if f in fset: return s,f\n",
    "        fset.add(f)\n",
    "        \n",
    "    if s == 0: return s,0 #0 sum edge case\n",
    "    \n",
    "    freqs = freqs[:-1] #last number belongs in second iteration\n",
    "    mg = defaultdict(list)\n",
    "    for i,m in enumerate(freqs):\n",
    "        mg[m % s].append((i,m)) #key is mod loop value, value is index and value\n",
    "    \n",
    "    mindiff = None\n",
    "    for g in mg.values():\n",
    "\n",
    "        sorted_g = list(sorted(g, key=lambda t: t[1])) #ensure ascending order\n",
    "        for i in range(1,len(sorted_g)):\n",
    "            #diff is index, value, iterations to repeat\n",
    "            diff = (sorted_g[i][0], sorted_g[i][1], (sorted_g[i][1]-sorted_g[i-1][1])//s)\n",
    "            if mindiff is None or diff[2]<mindiff[2] or (diff[2]==mindiff[2] and diff[0]<mindiff[0]):\n",
    "                mindiff = diff\n",
    "\n",
    "    return s,mindiff[1]\n",
    "\n",
    "\n",
    "answer = day1()\n",
    "print(f'part 1: {answer[0]}\\npart 2: {answer[1]}')"
   ]
  },
  {
   "cell_type": "code",
   "execution_count": 4,
   "metadata": {},
   "outputs": [],
   "source": [
    "#DAY 2\n",
    "\n",
    "puzzle = getpuzzle(2)\n",
    "\n",
    "csum = [0,0]\n",
    "for id in puzzle:\n",
    "    cts = [id.count(l) for l in id]\n",
    "    csum = [csum[0]+(cts.count(2)>0),csum[1]+(cts.count(3)>0)]\n",
    "print('part 1:',csum[0]*csum[1])\n",
    "\n",
    "t = puzzle\n",
    "for i in range(len(t)):\n",
    "    for j in range(i+1,len(t)):\n",
    "        matches = [t[i][l]==t[j][l] for l in range(len(t[i]))]\n",
    "        if matches.count(False)==1:\n",
    "            print('part 2:',''.join([t[i][l] for l in range(len(t[i])) if matches[l]==True]))"
   ]
  },
  {
   "cell_type": "code",
   "execution_count": 5,
   "metadata": {},
   "outputs": [
    {
     "name": "stdout",
     "output_type": "stream",
     "text": [
      "part 1: 118223\n",
      "part 2: 412\n"
     ]
    }
   ],
   "source": [
    "#DAY 3\n",
    "\n",
    "puzzle = getpuzzle(3)\n",
    "\n",
    "inches = defaultdict(list)\n",
    "\n",
    "for claim in puzzle:\n",
    "    id = int(claim.split(' ')[0][1:])\n",
    "    l,t = claim.replace(':','').split(' ')[2].split(',')\n",
    "    w,h = claim.split(' ')[3].split('x')\n",
    "    for i in range(int(w)):\n",
    "        for j in range(int(h)):\n",
    "            inches[int(l)+i,int(t)+j].append(id)\n",
    "\n",
    "print('part 1:', sum([len(j)>1 for i,j in inches.items()]))\n",
    "\n",
    "\n",
    "dset = set()\n",
    "for _,ids in inches.items():\n",
    "    if len(ids)>1:\n",
    "        [dset.add(id) for id in ids]\n",
    "\n",
    "for claim in puzzle:\n",
    "    id = int(claim.split(' ')[0][1:])\n",
    "    if id not in dset: print('part 2:',id)\n"
   ]
  },
  {
   "cell_type": "code",
   "execution_count": 6,
   "metadata": {},
   "outputs": [
    {
     "name": "stdout",
     "output_type": "stream",
     "text": [
      "part 1: guard #2953 sleeps most at 39\n",
      "part 1 answer: 115167\n",
      "part 2: guard #1069 sleeps most at 30\n",
      "part 2 answer: 32070\n"
     ]
    }
   ],
   "source": [
    "#DAY 4\n",
    "\n",
    "puzzle = getpuzzle(4)\n",
    "\n",
    "events = sorted(puzzle)\n",
    "prev_day,prev_minute = None,None\n",
    "full = defaultdict(list)\n",
    "guards_by_minute = {}\n",
    "\n",
    "for i in range(len(events)):\n",
    "    #handle shifts starting before midnight\n",
    "    if events[i][12:14] == '23':\n",
    "        minute = '00:00'\n",
    "        if events[i][6:8] != events[i+1][6:8] and events[i+1][9:11]=='02':\n",
    "            day = events[i+1][6:9]+'01'\n",
    "        else:\n",
    "            day = events[i+1][6:11]\n",
    "    else:\n",
    "        day = events[i][6:11]\n",
    "        minute = events[i][12:17]\n",
    "    #handle start of shift\n",
    "    if events[i][-5:]=='shift': \n",
    "        guard = events[i].split(' ')[3]\n",
    "        full[day] = {\n",
    "            'guard': guard,\n",
    "            'minutes': [0]*60\n",
    "        }\n",
    "        if guard not in guards_by_minute: guards_by_minute[guard] = [0]*60\n",
    "    \n",
    "    #add asleep minutes if same shift and prior event is sleep event\n",
    "    if day == prev_day and events[i][-6:] != 'asleep':\n",
    "        for i in range(int(prev_minute[-2:]), int(minute[-2:])): full[day]['minutes'][i]=1\n",
    "        for i in range(int(prev_minute[-2:]), int(minute[-2:])): guards_by_minute[guard][i]+=1\n",
    "    \n",
    "    prev_day,prev_minute = day, minute\n",
    "\n",
    "\n",
    "    \n",
    "    \n",
    "p1_id = sorted(guards_by_minute.items(), key=lambda x: sum(x[1]))[-1][0]\n",
    "p1_minute = guards_by_minute[p1_id].index(max(guards_by_minute[p1_id]))\n",
    "\n",
    "print(f'part 1: guard {p1_id} sleeps most at {p1_minute}\\npart 1 answer: {int(p1_id[1:])*p1_minute}')\n",
    "\n",
    "p2_id = sorted(guards_by_minute.items(), key=lambda x: max(x[1]))[-1][0]\n",
    "p2_minute = guards_by_minute[p2_id].index(max(guards_by_minute[p2_id]))\n",
    "print(f'part 2: guard {p2_id} sleeps most at {p2_minute}\\npart 2 answer: {int(p2_id[1:])*p2_minute}')"
   ]
  },
  {
   "cell_type": "code",
   "execution_count": 10,
   "metadata": {},
   "outputs": [
    {
     "name": "stdout",
     "output_type": "stream",
     "text": [
      "part 1: reduces 50000 to 11264\n",
      "part 2: removing ['G', 'g'] reduces 10900 further to 4552\n"
     ]
    }
   ],
   "source": [
    "#DAY 5\n",
    "puzzle = getpuzzle(5)[0]\n",
    "\n",
    "i = 0\n",
    "def reactPolymer(base):\n",
    "    if type(base)==list:\n",
    "        t = base.copy()\n",
    "    else: \n",
    "        t = base\n",
    "    i=0\n",
    "    while i<len(t)-1:\n",
    "        if i < 0: i=0\n",
    "        if abs(ord(t[i])-ord(t[i+1]))==32:\n",
    "            t=t[:i]+t[i+2:]\n",
    "            i-=2\n",
    "        i+=1\n",
    "    return t\n",
    "\n",
    "s = reactPolymer(puzzle)\n",
    "print(f'part 1: reduces {len(puzzle)} to {len(s)}')\n",
    "\n",
    "\n",
    "units = [x for x in set(s) if chr(ord(x)-32) not in set(s)]\n",
    "results = {}\n",
    "for u in units:\n",
    "    exclude = (ord(u),ord(u)+32)\n",
    "    unit = str([chr(x) for x in exclude])[2:-2:5]\n",
    "    t = [x for x in s if ord(x) not in exclude]\n",
    "    results[unit] = (len(t),len(collapsePolymer(t)))\n",
    "\n",
    "p2 = sorted(results.items(),key=lambda x:x[1][1])[0]\n",
    "\n",
    "print(f'part 2: removing {list(p2[0])} reduces {p2[1][0]} further to {p2[1][1]}')"
   ]
  },
  {
   "cell_type": "code",
   "execution_count": null,
   "metadata": {},
   "outputs": [],
   "source": []
  },
  {
   "cell_type": "code",
   "execution_count": 11,
   "metadata": {},
   "outputs": [
    {
     "data": {
      "text/plain": [
       "['77, 279', '216, 187', '72, 301', '183, 82', '57, 170']"
      ]
     },
     "execution_count": 11,
     "metadata": {},
     "output_type": "execute_result"
    }
   ],
   "source": [
    "#DAY 6\n",
    "puzzle = getpuzzle(6)\n",
    "puzzle[:5]"
   ]
  },
  {
   "cell_type": "code",
   "execution_count": 18,
   "metadata": {},
   "outputs": [
    {
     "data": {
      "text/plain": [
       "[['40', '52'],\n",
       " ['43', '294'],\n",
       " ['46', '335'],\n",
       " ['50', '129'],\n",
       " ['55', '89'],\n",
       " ['57', '170'],\n",
       " ['61', '52'],\n",
       " ['66', '158'],\n",
       " ['71', '114'],\n",
       " ['72', '301'],\n",
       " ['73', '287'],\n",
       " ['77', '279'],\n",
       " ['78', '136'],\n",
       " ['82', '88'],\n",
       " ['89', '204'],\n",
       " ['92', '112'],\n",
       " ['104', '84'],\n",
       " ['108', '97'],\n",
       " ['117', '129'],\n",
       " ['125', '249'],\n",
       " ['134', '211'],\n",
       " ['141', '264'],\n",
       " ['150', '130'],\n",
       " ['156', '281'],\n",
       " ['181', '270'],\n",
       " ['183', '82'],\n",
       " ['186', '177'],\n",
       " ['187', '332'],\n",
       " ['188', '145'],\n",
       " ['190', '258'],\n",
       " ['193', '342'],\n",
       " ['210', '271'],\n",
       " ['216', '187'],\n",
       " ['234', '321'],\n",
       " ['237', '278'],\n",
       " ['238', '216'],\n",
       " ['243', '160'],\n",
       " ['254', '292'],\n",
       " ['260', '288'],\n",
       " ['260', '184'],\n",
       " ['270', '287'],\n",
       " ['283', '353'],\n",
       " ['286', '302'],\n",
       " ['290', '109'],\n",
       " ['291', '170'],\n",
       " ['299', '184'],\n",
       " ['309', '130'],\n",
       " ['313', '358'],\n",
       " ['339', '314'],\n",
       " ['353', '107']]"
      ]
     },
     "execution_count": 18,
     "metadata": {},
     "output_type": "execute_result"
    }
   ],
   "source": [
    "# sorted(puzzle,key=lambda x: x[0])\n",
    "sorted([x.split(', ') for x in puzzle],key=lambda x: int(x[0]))"
   ]
  },
  {
   "cell_type": "code",
   "execution_count": 20,
   "metadata": {},
   "outputs": [
    {
     "ename": "NameError",
     "evalue": "name 'x' is not defined",
     "output_type": "error",
     "traceback": [
      "\u001b[1;31m---------------------------------------------------------------------------\u001b[0m",
      "\u001b[1;31mNameError\u001b[0m                                 Traceback (most recent call last)",
      "\u001b[1;32m<ipython-input-20-a0ad516f7d51>\u001b[0m in \u001b[0;36m<module>\u001b[1;34m\u001b[0m\n\u001b[1;32m----> 1\u001b[1;33m \u001b[0msorted\u001b[0m\u001b[1;33m(\u001b[0m\u001b[1;33m[\u001b[0m\u001b[0mint\u001b[0m\u001b[1;33m(\u001b[0m\u001b[0my\u001b[0m\u001b[1;33m)\u001b[0m \u001b[1;32mfor\u001b[0m \u001b[0my\u001b[0m \u001b[1;32min\u001b[0m \u001b[0mx\u001b[0m\u001b[1;33m.\u001b[0m\u001b[0msplit\u001b[0m\u001b[1;33m(\u001b[0m\u001b[1;34m', '\u001b[0m\u001b[1;33m)\u001b[0m \u001b[1;32mfor\u001b[0m \u001b[0mx\u001b[0m \u001b[1;32min\u001b[0m \u001b[0mpuzzle\u001b[0m\u001b[1;33m]\u001b[0m\u001b[1;33m,\u001b[0m\u001b[0mkey\u001b[0m\u001b[1;33m=\u001b[0m\u001b[1;32mlambda\u001b[0m \u001b[0mx\u001b[0m\u001b[1;33m:\u001b[0m \u001b[0mint\u001b[0m\u001b[1;33m(\u001b[0m\u001b[0mx\u001b[0m\u001b[1;33m[\u001b[0m\u001b[1;36m1\u001b[0m\u001b[1;33m]\u001b[0m\u001b[1;33m)\u001b[0m\u001b[1;33m)\u001b[0m\u001b[1;33m\u001b[0m\u001b[1;33m\u001b[0m\u001b[0m\n\u001b[0m",
      "\u001b[1;31mNameError\u001b[0m: name 'x' is not defined"
     ]
    }
   ],
   "source": [
    "sorted([int(y) for y in x.split(', ') for x in puzzle],key=lambda x: int(x[1]))"
   ]
  }
 ],
 "metadata": {
  "kernelspec": {
   "display_name": "Python 3",
   "language": "python",
   "name": "python3"
  },
  "language_info": {
   "codemirror_mode": {
    "name": "ipython",
    "version": 3
   },
   "file_extension": ".py",
   "mimetype": "text/x-python",
   "name": "python",
   "nbconvert_exporter": "python",
   "pygments_lexer": "ipython3",
   "version": "3.9.0"
  }
 },
 "nbformat": 4,
 "nbformat_minor": 4
}
