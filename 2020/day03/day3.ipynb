{
 "cells": [
  {
   "cell_type": "code",
   "execution_count": null,
   "metadata": {},
   "outputs": [],
   "source": []
  },
  {
   "cell_type": "code",
   "execution_count": 28,
   "metadata": {},
   "outputs": [],
   "source": [
    "with open('input.txt') as f:\n",
    "    forest = f.read().split('\\n')\n"
   ]
  },
  {
   "cell_type": "code",
   "execution_count": 30,
   "metadata": {},
   "outputs": [
    {
     "name": "stdout",
     "output_type": "stream",
     "text": [
      "31\n"
     ]
    }
   ],
   "source": [
    "l = 0\n",
    "for x in forest:\n",
    "    if len(x) > l:\n",
    "        l = len(x)\n",
    "        print(len(x))"
   ]
  },
  {
   "cell_type": "code",
   "execution_count": 60,
   "metadata": {},
   "outputs": [
    {
     "data": {
      "text/plain": [
       "['..##.......',\n",
       " '#...#...#..',\n",
       " '.#....#..#.',\n",
       " '..#.#...#.#',\n",
       " '.#...##..#.',\n",
       " '..#.##.....',\n",
       " '.#.#.#....#',\n",
       " '.#........#',\n",
       " '#.##...#...',\n",
       " '#...##....#',\n",
       " '.#..#...#.#']"
      ]
     },
     "execution_count": 60,
     "metadata": {},
     "output_type": "execute_result"
    }
   ],
   "source": [
    "test = '''..##.......\n",
    "#...#...#..\n",
    ".#....#..#.\n",
    "..#.#...#.#\n",
    ".#...##..#.\n",
    "..#.##.....\n",
    ".#.#.#....#\n",
    ".#........#\n",
    "#.##...#...\n",
    "#...##....#\n",
    ".#..#...#.#'''.split('\\n')\n",
    "test"
   ]
  },
  {
   "cell_type": "code",
   "execution_count": 46,
   "metadata": {},
   "outputs": [],
   "source": [
    "# for i,l in enumerate(test):\n",
    "#     test[i] = test[i]*10\n",
    "# test\n",
    "# print(len(test))"
   ]
  },
  {
   "cell_type": "code",
   "execution_count": 20,
   "metadata": {},
   "outputs": [
    {
     "name": "stdout",
     "output_type": "stream",
     "text": [
      ".\n"
     ]
    }
   ],
   "source": [
    "loc = [0,0]\n",
    "print(test[loc[0]][loc[1]])"
   ]
  },
  {
   "cell_type": "code",
   "execution_count": 68,
   "metadata": {},
   "outputs": [],
   "source": [
    "def traverse(slope, trees):\n",
    "    pos = [0,0] #c,r\n",
    "    path = []\n",
    "    ct = 0\n",
    "#     print(trees[0])\n",
    "#     print(len(trees[0]))\n",
    "    \n",
    "    for i in range(len(trees)):\n",
    "#         print(slope,pos,i,trees[pos[1]][pos[0]])\n",
    "        path.append(trees[pos[1]][pos[0]])\n",
    "        if trees[pos[1]][pos[0]] == '#':\n",
    "            ct += 1\n",
    "        #add row first to get appropriate length\n",
    "        pos[1] += slope[1]\n",
    "        #add column modulus next row\n",
    "        if pos[1] < len(trees):\n",
    "            pos[0] = (pos[0]+slope[0]) % len(trees[pos[1]])\n",
    "        else:\n",
    "            break\n",
    "    \n",
    "    return ct, path\n",
    "        "
   ]
  },
  {
   "cell_type": "code",
   "execution_count": 56,
   "metadata": {},
   "outputs": [
    {
     "data": {
      "text/plain": [
       "(7, ['.', '.', '#', '.', '#', '#', '.', '#', '#', '#', '#'])"
      ]
     },
     "execution_count": 56,
     "metadata": {},
     "output_type": "execute_result"
    }
   ],
   "source": [
    "traverse((3,1), test)"
   ]
  },
  {
   "cell_type": "code",
   "execution_count": 69,
   "metadata": {},
   "outputs": [],
   "source": [
    "#part 2"
   ]
  },
  {
   "cell_type": "code",
   "execution_count": 72,
   "metadata": {},
   "outputs": [
    {
     "name": "stdout",
     "output_type": "stream",
     "text": [
      "[2, 7, 3, 4, 2]\n",
      "336\n"
     ]
    }
   ],
   "source": [
    "slopes = [(1,1), (3,1), (5,1), (7,1), (1,2)]\n",
    "treecounts = []\n",
    "for s in slopes:\n",
    "    treecounts.append(traverse(s,test)[0])\n",
    "print(treecounts)\n",
    "ans = 1\n",
    "for t in treecounts:\n",
    "    ans = ans * t\n",
    "print(ans)"
   ]
  },
  {
   "cell_type": "code",
   "execution_count": 73,
   "metadata": {},
   "outputs": [
    {
     "name": "stdout",
     "output_type": "stream",
     "text": [
      "[78, 262, 66, 69, 29]\n",
      "2698900776\n"
     ]
    }
   ],
   "source": [
    "slopes = [(1,1), (3,1), (5,1), (7,1), (1,2)]\n",
    "treecounts = []\n",
    "for s in slopes:\n",
    "    treecounts.append(traverse(s,forest)[0])\n",
    "print(treecounts)\n",
    "ans = 1\n",
    "for t in treecounts:\n",
    "    ans = ans * t\n",
    "print(ans)"
   ]
  }
 ],
 "metadata": {
  "kernelspec": {
   "display_name": "Python 3",
   "language": "python",
   "name": "python3"
  },
  "language_info": {
   "codemirror_mode": {
    "name": "ipython",
    "version": 3
   },
   "file_extension": ".py",
   "mimetype": "text/x-python",
   "name": "python",
   "nbconvert_exporter": "python",
   "pygments_lexer": "ipython3",
   "version": "3.8.1"
  }
 },
 "nbformat": 4,
 "nbformat_minor": 4
}
